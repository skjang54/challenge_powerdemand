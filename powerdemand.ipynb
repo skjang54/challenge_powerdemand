{
  "nbformat": 4,
  "nbformat_minor": 0,
  "metadata": {
    "kernelspec": {
      "display_name": "Python 3",
      "language": "python",
      "name": "python3"
    },
    "language_info": {
      "codemirror_mode": {
        "name": "ipython",
        "version": 3
      },
      "file_extension": ".py",
      "mimetype": "text/x-python",
      "name": "python",
      "nbconvert_exporter": "python",
      "pygments_lexer": "ipython3",
      "version": "3.7.7"
    },
    "colab": {
      "name": "script_200501.ipynb",
      "provenance": []
    }
  },
  "cells": [
    {
      "cell_type": "markdown",
      "metadata": {
        "id": "3JrLZutOQrwu",
        "colab_type": "text"
      },
      "source": [
        "### library, data 불러오기"
      ]
    },
    {
      "cell_type": "code",
      "metadata": {
        "scrolled": true,
        "id": "YqZcudJ3Qrw3",
        "colab_type": "code",
        "colab": {}
      },
      "source": [
        "import pandas as pd\n",
        "import numpy as np\n",
        "import time\n",
        "import datetime\n",
        "import random\n",
        "import os\n",
        "import matplotlib.pyplot as plt"
      ],
      "execution_count": 0,
      "outputs": []
    },
    {
      "cell_type": "code",
      "metadata": {
        "id": "xatV3Zu1QrxO",
        "colab_type": "code",
        "colab": {}
      },
      "source": [
        "target = pd.read_csv('data/target_v1.csv',parse_dates=True)\n",
        "hsmp = pd.read_csv('data/hourly_smp_v1.csv',parse_dates=True)"
      ],
      "execution_count": 0,
      "outputs": []
    },
    {
      "cell_type": "code",
      "metadata": {
        "id": "SJZTv1JAQrxd",
        "colab_type": "code",
        "colab": {}
      },
      "source": [
        "lu = pd.read_csv('data/lookupTable_area.csv')\n",
        "wth = pd.read_csv('data/weather_v1.csv',low_memory=False,parse_dates=True)"
      ],
      "execution_count": 0,
      "outputs": []
    },
    {
      "cell_type": "code",
      "metadata": {
        "id": "QIEVIr-YQrxr",
        "colab_type": "code",
        "colab": {}
      },
      "source": [
        "wth.index=wth.datetime"
      ],
      "execution_count": 0,
      "outputs": []
    },
    {
      "cell_type": "code",
      "metadata": {
        "id": "Qv8IfIhWQrx4",
        "colab_type": "code",
        "colab": {}
      },
      "source": [
        "subformat = pd.read_csv('data/sample_submission.csv',parse_dates=True)"
      ],
      "execution_count": 0,
      "outputs": []
    },
    {
      "cell_type": "code",
      "metadata": {
        "scrolled": true,
        "id": "s04RnJq8QryL",
        "colab_type": "code",
        "colab": {},
        "outputId": "6a8d8957-817b-427f-828f-7673e9e8085a"
      },
      "source": [
        "target.head()"
      ],
      "execution_count": 0,
      "outputs": [
        {
          "output_type": "execute_result",
          "data": {
            "text/html": [
              "<div>\n",
              "<style scoped>\n",
              "    .dataframe tbody tr th:only-of-type {\n",
              "        vertical-align: middle;\n",
              "    }\n",
              "\n",
              "    .dataframe tbody tr th {\n",
              "        vertical-align: top;\n",
              "    }\n",
              "\n",
              "    .dataframe thead th {\n",
              "        text-align: right;\n",
              "    }\n",
              "</style>\n",
              "<table border=\"1\" class=\"dataframe\">\n",
              "  <thead>\n",
              "    <tr style=\"text-align: right;\">\n",
              "      <th></th>\n",
              "      <th>date</th>\n",
              "      <th>smp_max</th>\n",
              "      <th>smp_min</th>\n",
              "      <th>smp_mean</th>\n",
              "      <th>supply</th>\n",
              "    </tr>\n",
              "  </thead>\n",
              "  <tbody>\n",
              "    <tr>\n",
              "      <th>0</th>\n",
              "      <td>2018-02-01</td>\n",
              "      <td>150.65</td>\n",
              "      <td>116.84</td>\n",
              "      <td>132.71</td>\n",
              "      <td>87.47</td>\n",
              "    </tr>\n",
              "    <tr>\n",
              "      <th>1</th>\n",
              "      <td>2018-02-02</td>\n",
              "      <td>163.86</td>\n",
              "      <td>116.84</td>\n",
              "      <td>134.19</td>\n",
              "      <td>86.64</td>\n",
              "    </tr>\n",
              "    <tr>\n",
              "      <th>2</th>\n",
              "      <td>2018-02-03</td>\n",
              "      <td>164.07</td>\n",
              "      <td>116.85</td>\n",
              "      <td>131.39</td>\n",
              "      <td>88.28</td>\n",
              "    </tr>\n",
              "    <tr>\n",
              "      <th>3</th>\n",
              "      <td>2018-02-04</td>\n",
              "      <td>171.00</td>\n",
              "      <td>115.76</td>\n",
              "      <td>131.89</td>\n",
              "      <td>86.14</td>\n",
              "    </tr>\n",
              "    <tr>\n",
              "      <th>4</th>\n",
              "      <td>2018-02-05</td>\n",
              "      <td>170.34</td>\n",
              "      <td>123.89</td>\n",
              "      <td>137.96</td>\n",
              "      <td>90.63</td>\n",
              "    </tr>\n",
              "  </tbody>\n",
              "</table>\n",
              "</div>"
            ],
            "text/plain": [
              "         date  smp_max  smp_min  smp_mean  supply\n",
              "0  2018-02-01   150.65   116.84    132.71   87.47\n",
              "1  2018-02-02   163.86   116.84    134.19   86.64\n",
              "2  2018-02-03   164.07   116.85    131.39   88.28\n",
              "3  2018-02-04   171.00   115.76    131.89   86.14\n",
              "4  2018-02-05   170.34   123.89    137.96   90.63"
            ]
          },
          "metadata": {
            "tags": []
          },
          "execution_count": 8
        }
      ]
    },
    {
      "cell_type": "code",
      "metadata": {
        "scrolled": true,
        "id": "IKK9ZdzoQryf",
        "colab_type": "code",
        "colab": {},
        "outputId": "0c26befe-50dc-4477-bc4c-28c36db35cc6"
      },
      "source": [
        "wth.head()"
      ],
      "execution_count": 0,
      "outputs": [
        {
          "output_type": "execute_result",
          "data": {
            "text/html": [
              "<div>\n",
              "<style scoped>\n",
              "    .dataframe tbody tr th:only-of-type {\n",
              "        vertical-align: middle;\n",
              "    }\n",
              "\n",
              "    .dataframe tbody tr th {\n",
              "        vertical-align: top;\n",
              "    }\n",
              "\n",
              "    .dataframe thead th {\n",
              "        text-align: right;\n",
              "    }\n",
              "</style>\n",
              "<table border=\"1\" class=\"dataframe\">\n",
              "  <thead>\n",
              "    <tr style=\"text-align: right;\">\n",
              "      <th></th>\n",
              "      <th>area</th>\n",
              "      <th>datetime</th>\n",
              "      <th>temp</th>\n",
              "      <th>temp_QCFlag</th>\n",
              "      <th>prec</th>\n",
              "      <th>prec_QCFlag</th>\n",
              "      <th>ws</th>\n",
              "      <th>ws_QCFlag</th>\n",
              "      <th>wd</th>\n",
              "      <th>wd_QCFlag</th>\n",
              "      <th>...</th>\n",
              "      <th>vis</th>\n",
              "      <th>sfctype</th>\n",
              "      <th>weathernumber</th>\n",
              "      <th>sfctemp</th>\n",
              "      <th>sfctemp_QCFlag</th>\n",
              "      <th>landtemp_5cm</th>\n",
              "      <th>landtemp_10cm</th>\n",
              "      <th>landtemp_20cm</th>\n",
              "      <th>landtemp_30cm</th>\n",
              "      <th>station</th>\n",
              "    </tr>\n",
              "    <tr>\n",
              "      <th>datetime</th>\n",
              "      <th></th>\n",
              "      <th></th>\n",
              "      <th></th>\n",
              "      <th></th>\n",
              "      <th></th>\n",
              "      <th></th>\n",
              "      <th></th>\n",
              "      <th></th>\n",
              "      <th></th>\n",
              "      <th></th>\n",
              "      <th></th>\n",
              "      <th></th>\n",
              "      <th></th>\n",
              "      <th></th>\n",
              "      <th></th>\n",
              "      <th></th>\n",
              "      <th></th>\n",
              "      <th></th>\n",
              "      <th></th>\n",
              "      <th></th>\n",
              "      <th></th>\n",
              "    </tr>\n",
              "  </thead>\n",
              "  <tbody>\n",
              "    <tr>\n",
              "      <th>2018-02-01 01:00</th>\n",
              "      <td>184</td>\n",
              "      <td>2018-02-01 01:00</td>\n",
              "      <td>4.7</td>\n",
              "      <td>0.0</td>\n",
              "      <td>NaN</td>\n",
              "      <td>NaN</td>\n",
              "      <td>3.6</td>\n",
              "      <td>0.0</td>\n",
              "      <td>20.0</td>\n",
              "      <td>0.0</td>\n",
              "      <td>...</td>\n",
              "      <td>1950.0</td>\n",
              "      <td>NaN</td>\n",
              "      <td>NaN</td>\n",
              "      <td>2.9</td>\n",
              "      <td>0.0</td>\n",
              "      <td>3.7</td>\n",
              "      <td>3.9</td>\n",
              "      <td>4.2</td>\n",
              "      <td>4.9</td>\n",
              "      <td>ASOS</td>\n",
              "    </tr>\n",
              "    <tr>\n",
              "      <th>2018-02-01 02:00</th>\n",
              "      <td>184</td>\n",
              "      <td>2018-02-01 02:00</td>\n",
              "      <td>4.8</td>\n",
              "      <td>0.0</td>\n",
              "      <td>NaN</td>\n",
              "      <td>NaN</td>\n",
              "      <td>2.6</td>\n",
              "      <td>0.0</td>\n",
              "      <td>360.0</td>\n",
              "      <td>0.0</td>\n",
              "      <td>...</td>\n",
              "      <td>1865.0</td>\n",
              "      <td>NaN</td>\n",
              "      <td>NaN</td>\n",
              "      <td>2.9</td>\n",
              "      <td>0.0</td>\n",
              "      <td>3.6</td>\n",
              "      <td>3.8</td>\n",
              "      <td>4.2</td>\n",
              "      <td>4.9</td>\n",
              "      <td>ASOS</td>\n",
              "    </tr>\n",
              "    <tr>\n",
              "      <th>2018-02-01 03:00</th>\n",
              "      <td>184</td>\n",
              "      <td>2018-02-01 03:00</td>\n",
              "      <td>4.8</td>\n",
              "      <td>0.0</td>\n",
              "      <td>NaN</td>\n",
              "      <td>NaN</td>\n",
              "      <td>4.6</td>\n",
              "      <td>0.0</td>\n",
              "      <td>20.0</td>\n",
              "      <td>0.0</td>\n",
              "      <td>...</td>\n",
              "      <td>1855.0</td>\n",
              "      <td>NaN</td>\n",
              "      <td>NaN</td>\n",
              "      <td>3.0</td>\n",
              "      <td>0.0</td>\n",
              "      <td>3.6</td>\n",
              "      <td>3.8</td>\n",
              "      <td>4.3</td>\n",
              "      <td>4.9</td>\n",
              "      <td>ASOS</td>\n",
              "    </tr>\n",
              "    <tr>\n",
              "      <th>2018-02-01 04:00</th>\n",
              "      <td>184</td>\n",
              "      <td>2018-02-01 04:00</td>\n",
              "      <td>4.5</td>\n",
              "      <td>0.0</td>\n",
              "      <td>NaN</td>\n",
              "      <td>NaN</td>\n",
              "      <td>5.7</td>\n",
              "      <td>0.0</td>\n",
              "      <td>20.0</td>\n",
              "      <td>0.0</td>\n",
              "      <td>...</td>\n",
              "      <td>1425.0</td>\n",
              "      <td>NaN</td>\n",
              "      <td>NaN</td>\n",
              "      <td>3.0</td>\n",
              "      <td>0.0</td>\n",
              "      <td>3.6</td>\n",
              "      <td>3.8</td>\n",
              "      <td>4.2</td>\n",
              "      <td>5.0</td>\n",
              "      <td>ASOS</td>\n",
              "    </tr>\n",
              "    <tr>\n",
              "      <th>2018-02-01 05:00</th>\n",
              "      <td>184</td>\n",
              "      <td>2018-02-01 05:00</td>\n",
              "      <td>4.5</td>\n",
              "      <td>0.0</td>\n",
              "      <td>NaN</td>\n",
              "      <td>9.0</td>\n",
              "      <td>4.4</td>\n",
              "      <td>0.0</td>\n",
              "      <td>20.0</td>\n",
              "      <td>0.0</td>\n",
              "      <td>...</td>\n",
              "      <td>1043.0</td>\n",
              "      <td>NaN</td>\n",
              "      <td>1.0</td>\n",
              "      <td>3.0</td>\n",
              "      <td>0.0</td>\n",
              "      <td>3.5</td>\n",
              "      <td>3.8</td>\n",
              "      <td>4.2</td>\n",
              "      <td>4.9</td>\n",
              "      <td>ASOS</td>\n",
              "    </tr>\n",
              "  </tbody>\n",
              "</table>\n",
              "<p>5 rows × 37 columns</p>\n",
              "</div>"
            ],
            "text/plain": [
              "                  area          datetime  temp  temp_QCFlag  prec  \\\n",
              "datetime                                                            \n",
              "2018-02-01 01:00   184  2018-02-01 01:00   4.7          0.0   NaN   \n",
              "2018-02-01 02:00   184  2018-02-01 02:00   4.8          0.0   NaN   \n",
              "2018-02-01 03:00   184  2018-02-01 03:00   4.8          0.0   NaN   \n",
              "2018-02-01 04:00   184  2018-02-01 04:00   4.5          0.0   NaN   \n",
              "2018-02-01 05:00   184  2018-02-01 05:00   4.5          0.0   NaN   \n",
              "\n",
              "                  prec_QCFlag   ws  ws_QCFlag     wd  wd_QCFlag  ...     vis  \\\n",
              "datetime                                                         ...           \n",
              "2018-02-01 01:00          NaN  3.6        0.0   20.0        0.0  ...  1950.0   \n",
              "2018-02-01 02:00          NaN  2.6        0.0  360.0        0.0  ...  1865.0   \n",
              "2018-02-01 03:00          NaN  4.6        0.0   20.0        0.0  ...  1855.0   \n",
              "2018-02-01 04:00          NaN  5.7        0.0   20.0        0.0  ...  1425.0   \n",
              "2018-02-01 05:00          9.0  4.4        0.0   20.0        0.0  ...  1043.0   \n",
              "\n",
              "                  sfctype  weathernumber  sfctemp  sfctemp_QCFlag  \\\n",
              "datetime                                                            \n",
              "2018-02-01 01:00      NaN            NaN      2.9             0.0   \n",
              "2018-02-01 02:00      NaN            NaN      2.9             0.0   \n",
              "2018-02-01 03:00      NaN            NaN      3.0             0.0   \n",
              "2018-02-01 04:00      NaN            NaN      3.0             0.0   \n",
              "2018-02-01 05:00      NaN            1.0      3.0             0.0   \n",
              "\n",
              "                  landtemp_5cm  landtemp_10cm  landtemp_20cm  landtemp_30cm  \\\n",
              "datetime                                                                      \n",
              "2018-02-01 01:00           3.7            3.9            4.2            4.9   \n",
              "2018-02-01 02:00           3.6            3.8            4.2            4.9   \n",
              "2018-02-01 03:00           3.6            3.8            4.3            4.9   \n",
              "2018-02-01 04:00           3.6            3.8            4.2            5.0   \n",
              "2018-02-01 05:00           3.5            3.8            4.2            4.9   \n",
              "\n",
              "                  station  \n",
              "datetime                   \n",
              "2018-02-01 01:00     ASOS  \n",
              "2018-02-01 02:00     ASOS  \n",
              "2018-02-01 03:00     ASOS  \n",
              "2018-02-01 04:00     ASOS  \n",
              "2018-02-01 05:00     ASOS  \n",
              "\n",
              "[5 rows x 37 columns]"
            ]
          },
          "metadata": {
            "tags": []
          },
          "execution_count": 9
        }
      ]
    },
    {
      "cell_type": "markdown",
      "metadata": {
        "id": "dwAHBkx8Qryx",
        "colab_type": "text"
      },
      "source": [
        "성산수산(area=892), 애월(893)은 기상데이터 적은 수 있음"
      ]
    },
    {
      "cell_type": "markdown",
      "metadata": {
        "id": "xpxs3YvTQrzD",
        "colab_type": "text"
      },
      "source": [
        "### smp_max의 이상치 처리"
      ]
    },
    {
      "cell_type": "code",
      "metadata": {
        "scrolled": false,
        "id": "TMGFRSFKQrzG",
        "colab_type": "code",
        "colab": {},
        "outputId": "1e053d4f-8904-46ce-ec6d-5857b1385316"
      },
      "source": [
        "target.loc[target.smp_max>300,:]# index169 =237.49; 540=599.28; 691=420.83"
      ],
      "execution_count": 0,
      "outputs": [
        {
          "output_type": "execute_result",
          "data": {
            "text/html": [
              "<div>\n",
              "<style scoped>\n",
              "    .dataframe tbody tr th:only-of-type {\n",
              "        vertical-align: middle;\n",
              "    }\n",
              "\n",
              "    .dataframe tbody tr th {\n",
              "        vertical-align: top;\n",
              "    }\n",
              "\n",
              "    .dataframe thead th {\n",
              "        text-align: right;\n",
              "    }\n",
              "</style>\n",
              "<table border=\"1\" class=\"dataframe\">\n",
              "  <thead>\n",
              "    <tr style=\"text-align: right;\">\n",
              "      <th></th>\n",
              "      <th>date</th>\n",
              "      <th>smp_max</th>\n",
              "      <th>smp_min</th>\n",
              "      <th>smp_mean</th>\n",
              "      <th>supply</th>\n",
              "    </tr>\n",
              "  </thead>\n",
              "  <tbody>\n",
              "    <tr>\n",
              "      <th>540</th>\n",
              "      <td>2019-07-26</td>\n",
              "      <td>599.28</td>\n",
              "      <td>149.58</td>\n",
              "      <td>184.80</td>\n",
              "      <td>86.26</td>\n",
              "    </tr>\n",
              "    <tr>\n",
              "      <th>691</th>\n",
              "      <td>2019-12-24</td>\n",
              "      <td>420.83</td>\n",
              "      <td>84.57</td>\n",
              "      <td>130.21</td>\n",
              "      <td>81.29</td>\n",
              "    </tr>\n",
              "  </tbody>\n",
              "</table>\n",
              "</div>"
            ],
            "text/plain": [
              "           date  smp_max  smp_min  smp_mean  supply\n",
              "540  2019-07-26   599.28   149.58    184.80   86.26\n",
              "691  2019-12-24   420.83    84.57    130.21   81.29"
            ]
          },
          "metadata": {
            "tags": []
          },
          "execution_count": 10
        }
      ]
    },
    {
      "cell_type": "code",
      "metadata": {
        "id": "2kJcrZfBQrzT",
        "colab_type": "code",
        "colab": {}
      },
      "source": [
        "target_old=target.copy()"
      ],
      "execution_count": 0,
      "outputs": []
    },
    {
      "cell_type": "code",
      "metadata": {
        "id": "PWUgJ2Y0Qrzi",
        "colab_type": "code",
        "colab": {},
        "outputId": "cee7f5b9-f449-4c9f-9363-c8186d70d5d4"
      },
      "source": [
        "for outidx in [169,540,691]:\n",
        "    oldval=target.loc[outidx,'smp_max']\n",
        "    newval=target.loc[outidx-10:outidx,'smp_max'].mean()\n",
        "    print(f'index {outidx}: {oldval} -> {newval}')\n",
        "    target.loc[outidx,'smp_max']=newval"
      ],
      "execution_count": 0,
      "outputs": [
        {
          "output_type": "stream",
          "text": [
            "index 169: 237.49 -> 187.36272727272728\n",
            "index 540: 599.28 -> 241.54363636363632\n",
            "index 691: 420.83 -> 180.85\n"
          ],
          "name": "stdout"
        }
      ]
    },
    {
      "cell_type": "code",
      "metadata": {
        "id": "WFIFT_3yQrzz",
        "colab_type": "code",
        "colab": {}
      },
      "source": [
        "def plotY(target):\n",
        "    plt.figure(figsize=(10,4))\n",
        "    plt.scatter(target.index, target.smp_max, s=5, color='r', label='smp_max')\n",
        "    plt.scatter(target.index, target.smp_min, s=5, color='b', label='smp_min')\n",
        "    plt.scatter(target.index, target.smp_mean, s=5, color='black', label='smp_mean')\n",
        "    plt.scatter(target.index, target.supply, s=5, color='purple', label='supply')\n",
        "    plt.legend()\n",
        "    plt.ylim((0,600))\n",
        "    plt.show()"
      ],
      "execution_count": 0,
      "outputs": []
    },
    {
      "cell_type": "code",
      "metadata": {
        "id": "hAa-Kxa0Qr0D",
        "colab_type": "code",
        "colab": {},
        "outputId": "23636064-1b76-4c90-c389-de7e5b26ddc8"
      },
      "source": [
        "plotY(target_old)"
      ],
      "execution_count": 0,
      "outputs": [
        {
          "output_type": "display_data",
          "data": {
            "image/png": "[encoded data removed]",
            "text/plain": [
              "<Figure size 720x288 with 1 Axes>"
            ]
          },
          "metadata": {
            "tags": [],
            "needs_background": "light"
          }
        }
      ]
    },
    {
      "cell_type": "markdown",
      "metadata": {
        "id": "mOSTY3tSRJYZ",
        "colab_type": "text"
      },
      "source": [
        "이상치 제거됨 확인"
      ]
    },
    {
      "cell_type": "code",
      "metadata": {
        "id": "kROHw-sIQr0S",
        "colab_type": "code",
        "colab": {},
        "outputId": "4c876c73-909a-486a-844c-eba8ec4987a4"
      },
      "source": [
        "plotY(target)"
      ],
      "execution_count": 0,
      "outputs": [
        {
          "output_type": "display_data",
          "data": {
            "image/png": "[encoded data removed]",
            "text/plain": [
              "<Figure size 720x288 with 1 Axes>"
            ]
          },
          "metadata": {
            "tags": [],
            "needs_background": "light"
          }
        }
      ]
    },
    {
      "cell_type": "markdown",
      "metadata": {
        "id": "ghMa79XhQr0o",
        "colab_type": "text"
      },
      "source": [
        "### 데이터 변환: 일별 기상 변수 4개"
      ]
    },
    {
      "cell_type": "markdown",
      "metadata": {
        "id": "suwm2zs3Qr0s",
        "colab_type": "text"
      },
      "source": [
        "'temp','ws','humid','prec' :기온, 풍속, 습도, 강수량"
      ]
    },
    {
      "cell_type": "code",
      "metadata": {
        "id": "xweApIREQr0v",
        "colab_type": "code",
        "colab": {}
      },
      "source": [
        "mywthfeatures=['temp','ws','humid','prec']"
      ],
      "execution_count": 0,
      "outputs": []
    },
    {
      "cell_type": "markdown",
      "metadata": {
        "id": "Sustj5L6Qr1D",
        "colab_type": "text"
      },
      "source": [
        "관심있는 feature의 QCFlag 빈도 확인 : 0(정상), 1(오류), 9(결측)"
      ]
    },
    {
      "cell_type": "code",
      "metadata": {
        "scrolled": true,
        "id": "NY3Q9iofQr1I",
        "colab_type": "code",
        "colab": {},
        "outputId": "6b6d6c90-ef6a-4637-a39c-bffd5090537c"
      },
      "source": [
        "for myft in mywthfeatures:\n",
        "    print(wth[myft+'_QCFlag'].value_counts())"
      ],
      "execution_count": 0,
      "outputs": [
        {
          "output_type": "stream",
          "text": [
            "0.0    27703\n",
            "9.0       40\n",
            "Name: temp_QCFlag, dtype: int64\n",
            "0.0    26020\n",
            "9.0      367\n",
            "Name: ws_QCFlag, dtype: int64\n",
            "0.0    27355\n",
            "9.0       38\n",
            "Name: humid_QCFlag, dtype: int64\n",
            "9.0    14218\n",
            "0.0     2837\n",
            "Name: prec_QCFlag, dtype: int64\n"
          ],
          "name": "stdout"
        }
      ]
    },
    {
      "cell_type": "markdown",
      "metadata": {
        "id": "peaYb4LfQr1Z",
        "colab_type": "text"
      },
      "source": [
        "#### 시간 (행) x feature (열)인 dataframe으로 변환"
      ]
    },
    {
      "cell_type": "code",
      "metadata": {
        "scrolled": false,
        "id": "0AbfS1xKQr1e",
        "colab_type": "code",
        "colab": {}
      },
      "source": [
        "df=pd.DataFrame(index=wth.datetime)\n",
        "for myft in mywthfeatures:\n",
        "    wth_by_hour_area=wth.pivot(index='datetime',columns='area',values=myft)\n",
        "    wthmean_by_hour=wth_by_hour_area.mean(axis=1,skipna=True)\n",
        "    # wthstd_by_hour=wth_by_hour_area.std(axis=1)\n",
        "    df[myft]=wthmean_by_hour"
      ],
      "execution_count": 0,
      "outputs": []
    },
    {
      "cell_type": "code",
      "metadata": {
        "scrolled": true,
        "id": "0iMJOnhQQr11",
        "colab_type": "code",
        "colab": {},
        "outputId": "2e62cbe3-4fdb-407f-fc28-4f866b7a4b88"
      },
      "source": [
        "df"
      ],
      "execution_count": 0,
      "outputs": [
        {
          "output_type": "execute_result",
          "data": {
            "text/html": [
              "<div>\n",
              "<style scoped>\n",
              "    .dataframe tbody tr th:only-of-type {\n",
              "        vertical-align: middle;\n",
              "    }\n",
              "\n",
              "    .dataframe tbody tr th {\n",
              "        vertical-align: top;\n",
              "    }\n",
              "\n",
              "    .dataframe thead th {\n",
              "        text-align: right;\n",
              "    }\n",
              "</style>\n",
              "<table border=\"1\" class=\"dataframe\">\n",
              "  <thead>\n",
              "    <tr style=\"text-align: right;\">\n",
              "      <th></th>\n",
              "      <th>temp</th>\n",
              "      <th>ws</th>\n",
              "      <th>humid</th>\n",
              "      <th>prec</th>\n",
              "    </tr>\n",
              "    <tr>\n",
              "      <th>datetime</th>\n",
              "      <th></th>\n",
              "      <th></th>\n",
              "      <th></th>\n",
              "      <th></th>\n",
              "    </tr>\n",
              "  </thead>\n",
              "  <tbody>\n",
              "    <tr>\n",
              "      <th>2018-02-01 01:00</th>\n",
              "      <td>0.745946</td>\n",
              "      <td>2.894444</td>\n",
              "      <td>75.324242</td>\n",
              "      <td>0.030303</td>\n",
              "    </tr>\n",
              "    <tr>\n",
              "      <th>2018-02-01 02:00</th>\n",
              "      <td>0.610811</td>\n",
              "      <td>2.630556</td>\n",
              "      <td>74.924242</td>\n",
              "      <td>0.000000</td>\n",
              "    </tr>\n",
              "    <tr>\n",
              "      <th>2018-02-01 03:00</th>\n",
              "      <td>0.624324</td>\n",
              "      <td>2.894444</td>\n",
              "      <td>74.857576</td>\n",
              "      <td>0.000000</td>\n",
              "    </tr>\n",
              "    <tr>\n",
              "      <th>2018-02-01 04:00</th>\n",
              "      <td>0.600000</td>\n",
              "      <td>3.122857</td>\n",
              "      <td>76.915152</td>\n",
              "      <td>0.000000</td>\n",
              "    </tr>\n",
              "    <tr>\n",
              "      <th>2018-02-01 05:00</th>\n",
              "      <td>0.621622</td>\n",
              "      <td>3.088889</td>\n",
              "      <td>77.836364</td>\n",
              "      <td>0.030303</td>\n",
              "    </tr>\n",
              "    <tr>\n",
              "      <th>...</th>\n",
              "      <td>...</td>\n",
              "      <td>...</td>\n",
              "      <td>...</td>\n",
              "      <td>...</td>\n",
              "    </tr>\n",
              "    <tr>\n",
              "      <th>2020-01-31 19:00</th>\n",
              "      <td>3.221053</td>\n",
              "      <td>3.794595</td>\n",
              "      <td>69.760000</td>\n",
              "      <td>0.000000</td>\n",
              "    </tr>\n",
              "    <tr>\n",
              "      <th>2020-01-31 20:00</th>\n",
              "      <td>3.128947</td>\n",
              "      <td>3.824324</td>\n",
              "      <td>69.962857</td>\n",
              "      <td>0.000000</td>\n",
              "    </tr>\n",
              "    <tr>\n",
              "      <th>2020-01-31 21:00</th>\n",
              "      <td>2.892105</td>\n",
              "      <td>3.659459</td>\n",
              "      <td>70.691429</td>\n",
              "      <td>0.000000</td>\n",
              "    </tr>\n",
              "    <tr>\n",
              "      <th>2020-01-31 22:00</th>\n",
              "      <td>2.597368</td>\n",
              "      <td>3.502703</td>\n",
              "      <td>70.220000</td>\n",
              "      <td>0.000000</td>\n",
              "    </tr>\n",
              "    <tr>\n",
              "      <th>2020-01-31 23:00</th>\n",
              "      <td>2.184211</td>\n",
              "      <td>3.324324</td>\n",
              "      <td>70.745714</td>\n",
              "      <td>0.000000</td>\n",
              "    </tr>\n",
              "  </tbody>\n",
              "</table>\n",
              "<p>648852 rows × 4 columns</p>\n",
              "</div>"
            ],
            "text/plain": [
              "                      temp        ws      humid      prec\n",
              "datetime                                                 \n",
              "2018-02-01 01:00  0.745946  2.894444  75.324242  0.030303\n",
              "2018-02-01 02:00  0.610811  2.630556  74.924242  0.000000\n",
              "2018-02-01 03:00  0.624324  2.894444  74.857576  0.000000\n",
              "2018-02-01 04:00  0.600000  3.122857  76.915152  0.000000\n",
              "2018-02-01 05:00  0.621622  3.088889  77.836364  0.030303\n",
              "...                    ...       ...        ...       ...\n",
              "2020-01-31 19:00  3.221053  3.794595  69.760000  0.000000\n",
              "2020-01-31 20:00  3.128947  3.824324  69.962857  0.000000\n",
              "2020-01-31 21:00  2.892105  3.659459  70.691429  0.000000\n",
              "2020-01-31 22:00  2.597368  3.502703  70.220000  0.000000\n",
              "2020-01-31 23:00  2.184211  3.324324  70.745714  0.000000\n",
              "\n",
              "[648852 rows x 4 columns]"
            ]
          },
          "metadata": {
            "tags": []
          },
          "execution_count": 19
        }
      ]
    },
    {
      "cell_type": "markdown",
      "metadata": {
        "id": "lYx-RXz_Qr2G",
        "colab_type": "text"
      },
      "source": [
        "#### datetime 변수 저장"
      ]
    },
    {
      "cell_type": "markdown",
      "metadata": {
        "id": "LZMqfx4FQr2K",
        "colab_type": "text"
      },
      "source": [
        "시간단위 datetime object 만들기 \n",
        "\n",
        "2018-02-01 01:00:00 to 2020-01-31 23:00:00"
      ]
    },
    {
      "cell_type": "code",
      "metadata": {
        "id": "2oisr1g6Qr2O",
        "colab_type": "code",
        "colab": {}
      },
      "source": [
        "dt_hours=wth.datetime.apply(lambda x :datetime.datetime.strptime(x, '%Y-%m-%d %H:%M'))"
      ],
      "execution_count": 0,
      "outputs": []
    },
    {
      "cell_type": "markdown",
      "metadata": {
        "id": "8rcpJscmQr2d",
        "colab_type": "text"
      },
      "source": [
        "같은 길이의 일단위 datetime object 만들기"
      ]
    },
    {
      "cell_type": "code",
      "metadata": {
        "id": "1BZmZVuBQr2h",
        "colab_type": "code",
        "colab": {}
      },
      "source": [
        "dt_dates=wth.datetime.str.replace(\" ..:..$\", \"\", regex=True)\n",
        "dt_dates=dt_dates.apply(lambda x :datetime.datetime.strptime(x, '%Y-%m-%d'))"
      ],
      "execution_count": 0,
      "outputs": []
    },
    {
      "cell_type": "markdown",
      "metadata": {
        "id": "vHwTGiqwQr2u",
        "colab_type": "text"
      },
      "source": [
        "#### 일별 feature matrix 만들기 (24시간의 평균)"
      ]
    },
    {
      "cell_type": "code",
      "metadata": {
        "id": "udIi3PzbQr2w",
        "colab_type": "code",
        "colab": {}
      },
      "source": [
        "df['dates']=dt_dates"
      ],
      "execution_count": 0,
      "outputs": []
    },
    {
      "cell_type": "code",
      "metadata": {
        "id": "LnOWBFKfQr27",
        "colab_type": "code",
        "colab": {}
      },
      "source": [
        "ft_bydate=df.groupby(['dates']).mean()"
      ],
      "execution_count": 0,
      "outputs": []
    },
    {
      "cell_type": "code",
      "metadata": {
        "scrolled": true,
        "id": "yFQbRnSaQr3I",
        "colab_type": "code",
        "colab": {},
        "outputId": "f7252aa7-e237-4117-89bc-f45d9c9dcb52"
      },
      "source": [
        "ft_bydate.head()"
      ],
      "execution_count": 0,
      "outputs": [
        {
          "output_type": "execute_result",
          "data": {
            "text/html": [
              "<div>\n",
              "<style scoped>\n",
              "    .dataframe tbody tr th:only-of-type {\n",
              "        vertical-align: middle;\n",
              "    }\n",
              "\n",
              "    .dataframe tbody tr th {\n",
              "        vertical-align: top;\n",
              "    }\n",
              "\n",
              "    .dataframe thead th {\n",
              "        text-align: right;\n",
              "    }\n",
              "</style>\n",
              "<table border=\"1\" class=\"dataframe\">\n",
              "  <thead>\n",
              "    <tr style=\"text-align: right;\">\n",
              "      <th></th>\n",
              "      <th>temp</th>\n",
              "      <th>ws</th>\n",
              "      <th>humid</th>\n",
              "      <th>prec</th>\n",
              "    </tr>\n",
              "    <tr>\n",
              "      <th>dates</th>\n",
              "      <th></th>\n",
              "      <th></th>\n",
              "      <th></th>\n",
              "      <th></th>\n",
              "    </tr>\n",
              "  </thead>\n",
              "  <tbody>\n",
              "    <tr>\n",
              "      <th>2018-02-01</th>\n",
              "      <td>1.271798</td>\n",
              "      <td>3.517856</td>\n",
              "      <td>67.423452</td>\n",
              "      <td>0.003274</td>\n",
              "    </tr>\n",
              "    <tr>\n",
              "      <th>2018-02-02</th>\n",
              "      <td>0.419820</td>\n",
              "      <td>3.851439</td>\n",
              "      <td>57.458586</td>\n",
              "      <td>0.000000</td>\n",
              "    </tr>\n",
              "    <tr>\n",
              "      <th>2018-02-03</th>\n",
              "      <td>-1.786653</td>\n",
              "      <td>5.614412</td>\n",
              "      <td>76.513073</td>\n",
              "      <td>0.287075</td>\n",
              "    </tr>\n",
              "    <tr>\n",
              "      <th>2018-02-04</th>\n",
              "      <td>-3.873874</td>\n",
              "      <td>5.976155</td>\n",
              "      <td>79.000126</td>\n",
              "      <td>0.269575</td>\n",
              "    </tr>\n",
              "    <tr>\n",
              "      <th>2018-02-05</th>\n",
              "      <td>-2.730006</td>\n",
              "      <td>5.134365</td>\n",
              "      <td>77.271397</td>\n",
              "      <td>0.241282</td>\n",
              "    </tr>\n",
              "  </tbody>\n",
              "</table>\n",
              "</div>"
            ],
            "text/plain": [
              "                temp        ws      humid      prec\n",
              "dates                                              \n",
              "2018-02-01  1.271798  3.517856  67.423452  0.003274\n",
              "2018-02-02  0.419820  3.851439  57.458586  0.000000\n",
              "2018-02-03 -1.786653  5.614412  76.513073  0.287075\n",
              "2018-02-04 -3.873874  5.976155  79.000126  0.269575\n",
              "2018-02-05 -2.730006  5.134365  77.271397  0.241282"
            ]
          },
          "metadata": {
            "tags": []
          },
          "execution_count": 24
        }
      ]
    },
    {
      "cell_type": "markdown",
      "metadata": {
        "id": "Y4lGodPNQr3a",
        "colab_type": "text"
      },
      "source": [
        "#### 1년 주기의 time_encoding 변수 만들기"
      ]
    },
    {
      "cell_type": "code",
      "metadata": {
        "scrolled": true,
        "id": "jTalyqG-Qr3d",
        "colab_type": "code",
        "colab": {}
      },
      "source": [
        "dates=(ft_bydate.index.to_series()-datetime.datetime(2018, 1, 1))\n",
        "dates_time_encoding= np.cos(2*np.pi*dates.dt.days/365)"
      ],
      "execution_count": 0,
      "outputs": []
    },
    {
      "cell_type": "code",
      "metadata": {
        "id": "u2RyGm6LQr3r",
        "colab_type": "code",
        "colab": {},
        "outputId": "cc969886-4996-4da5-bc4e-c3c186fc4cb4"
      },
      "source": [
        "# plt.scatter(ft_bydate.index, dates, s=5, color='black', label='dates')\n",
        "plt.figure(figsize=[10,5])\n",
        "plt.scatter(dates_time_encoding.index, dates_time_encoding, s=5, color='purple', label='enconding')\n",
        "plt.legend()\n",
        "plt.show()"
      ],
      "execution_count": 0,
      "outputs": [
        {
          "output_type": "display_data",
          "data": {
            "image/png": "[encoded data removed]",
            "text/plain": [
              "<Figure size 720x360 with 1 Axes>"
            ]
          },
          "metadata": {
            "tags": [],
            "needs_background": "light"
          }
        }
      ]
    },
    {
      "cell_type": "markdown",
      "metadata": {
        "id": "mgbg29FNQr3_",
        "colab_type": "text"
      },
      "source": [
        "### 모델링"
      ]
    },
    {
      "cell_type": "code",
      "metadata": {
        "id": "uTtJdyx6Qr4B",
        "colab_type": "code",
        "colab": {}
      },
      "source": [
        "import keras\n",
        "from keras.models import Sequential\n",
        "from keras.layers import Dense, LSTM, Dropout\n",
        "from sklearn.preprocessing import MinMaxScaler\n",
        "from keras.preprocessing.sequence import TimeseriesGenerator"
      ],
      "execution_count": 0,
      "outputs": []
    },
    {
      "cell_type": "markdown",
      "metadata": {
        "id": "ckrrBRHNQr4M",
        "colab_type": "text"
      },
      "source": [
        "#### 데이터셋 loader\n",
        "- X : 이전 28일치(t-27 ~ t) 4개 기상변수\n",
        "- X.shape = (28,4)\n",
        "\n",
        "- Y : 28일치(t+7 ~ t+35) 4개 종속변수 (일자별 전력수급실적 및 SMP 최대, 최소, 가중평균 데이터) \n",
        "- Y.shape = (28,4)"
      ]
    },
    {
      "cell_type": "markdown",
      "metadata": {
        "id": "1DTjWKfvQr4O",
        "colab_type": "text"
      },
      "source": [
        "-     데이터 기간: 2018.02.01 ~ 2020.01.31 730일=26달\n",
        "-     목적: 2020.02.07 ~ 2020.03.05 의 전력수요 및 SMP 예측 28일=1달 -> 2020-01-04~2020-01-31 집어넣음\n"
      ]
    },
    {
      "cell_type": "code",
      "metadata": {
        "scrolled": false,
        "id": "fmeuZcIGQr4Q",
        "colab_type": "code",
        "colab": {}
      },
      "source": [
        "xtestdata=np.hstack((ft_bydate.tail(28).values,target.iloc[:,1:].tail(n=28).values))"
      ],
      "execution_count": 0,
      "outputs": []
    },
    {
      "cell_type": "code",
      "metadata": {
        "id": "8rebbh4zQr4b",
        "colab_type": "code",
        "colab": {},
        "outputId": "0b653100-d29c-4305-8d4b-f1ae54712141"
      },
      "source": [
        "xtestdata.shape"
      ],
      "execution_count": 0,
      "outputs": [
        {
          "output_type": "execute_result",
          "data": {
            "text/plain": [
              "(28, 8)"
            ]
          },
          "metadata": {
            "tags": []
          },
          "execution_count": 152
        }
      ]
    },
    {
      "cell_type": "code",
      "metadata": {
        "id": "eNlymPMiQr4s",
        "colab_type": "code",
        "colab": {}
      },
      "source": [
        "xtestdata_prep = scaler.transform(xtestdata)"
      ],
      "execution_count": 0,
      "outputs": []
    },
    {
      "cell_type": "code",
      "metadata": {
        "id": "aIXUuzCjQr41",
        "colab_type": "code",
        "colab": {}
      },
      "source": [
        "xtestdata=xtestdata_prep.reshape((1,28,8))"
      ],
      "execution_count": 0,
      "outputs": []
    },
    {
      "cell_type": "code",
      "metadata": {
        "id": "o-BdY3LpQr4_",
        "colab_type": "code",
        "colab": {}
      },
      "source": [
        "wthdata=ft_bydate.copy()"
      ],
      "execution_count": 0,
      "outputs": []
    },
    {
      "cell_type": "code",
      "metadata": {
        "scrolled": true,
        "id": "TysjBt7KQr5K",
        "colab_type": "code",
        "colab": {},
        "outputId": "2eeb06fc-ff91-42b5-e081-748263339ae2"
      },
      "source": [
        "wthdata.shape"
      ],
      "execution_count": 0,
      "outputs": [
        {
          "output_type": "execute_result",
          "data": {
            "text/plain": [
              "(730, 4)"
            ]
          },
          "metadata": {
            "tags": []
          },
          "execution_count": 126
        }
      ]
    },
    {
      "cell_type": "code",
      "metadata": {
        "id": "_IKuDIfQQr5V",
        "colab_type": "code",
        "colab": {}
      },
      "source": [
        "wthdata=wthdata.iloc[:730-28-7+5,:].values # 2018-02-01 ~ 2020-01-01, not 2019-12-27"
      ],
      "execution_count": 0,
      "outputs": []
    },
    {
      "cell_type": "code",
      "metadata": {
        "id": "UNojZwcFQr5h",
        "colab_type": "code",
        "colab": {}
      },
      "source": [
        "targetdata_X=target.iloc[:730-28-7+5,1:].copy().values "
      ],
      "execution_count": 0,
      "outputs": []
    },
    {
      "cell_type": "code",
      "metadata": {
        "id": "fll65cgbQr5x",
        "colab_type": "code",
        "colab": {}
      },
      "source": [
        "xdata=np.hstack((wthdata,targetdata_X))"
      ],
      "execution_count": 0,
      "outputs": []
    },
    {
      "cell_type": "code",
      "metadata": {
        "id": "_qXwcDA1Qr59",
        "colab_type": "code",
        "colab": {}
      },
      "source": [
        "# 데이터 전처리\n",
        "scaler = MinMaxScaler(feature_range=(0, 1))\n",
        "wthdata_prep = scaler.fit_transform(xdata)"
      ],
      "execution_count": 0,
      "outputs": []
    },
    {
      "cell_type": "code",
      "metadata": {
        "id": "FtEP9gNCQr6I",
        "colab_type": "code",
        "colab": {},
        "outputId": "617767a1-bc1b-4ed5-aa85-e5de21719ece"
      },
      "source": [
        "wthdata_prep.shape"
      ],
      "execution_count": 0,
      "outputs": [
        {
          "output_type": "execute_result",
          "data": {
            "text/plain": [
              "(700, 8)"
            ]
          },
          "metadata": {
            "tags": []
          },
          "execution_count": 150
        }
      ]
    },
    {
      "cell_type": "code",
      "metadata": {
        "id": "5Ov8zJxuQr6a",
        "colab_type": "code",
        "colab": {}
      },
      "source": [
        "wthdata=wthdata_prep.reshape((25,28,8))"
      ],
      "execution_count": 0,
      "outputs": []
    },
    {
      "cell_type": "code",
      "metadata": {
        "id": "kJSAO6ZqQr6v",
        "colab_type": "code",
        "colab": {},
        "outputId": "41c6e590-cd26-460f-f63b-925e1a189501"
      },
      "source": [
        "wthdata.shape"
      ],
      "execution_count": 0,
      "outputs": [
        {
          "output_type": "execute_result",
          "data": {
            "text/plain": [
              "(25, 28, 8)"
            ]
          },
          "metadata": {
            "tags": []
          },
          "execution_count": 104
        }
      ]
    },
    {
      "cell_type": "code",
      "metadata": {
        "scrolled": true,
        "id": "g7vIng3NQr7C",
        "colab_type": "code",
        "colab": {}
      },
      "source": [
        "targetdata=target.iloc[28+7-5:,1:].copy().values # 2018-03-03, not 2018-03-08 ~ 2020-01-31 "
      ],
      "execution_count": 0,
      "outputs": []
    },
    {
      "cell_type": "code",
      "metadata": {
        "id": "oz2zOP74Qr7N",
        "colab_type": "code",
        "colab": {}
      },
      "source": [
        "targetdata=targetdata.reshape((25,28,4))"
      ],
      "execution_count": 0,
      "outputs": []
    },
    {
      "cell_type": "code",
      "metadata": {
        "id": "k2384vh-Qr7f",
        "colab_type": "code",
        "colab": {},
        "outputId": "6a1eec91-4347-4cab-f0dc-8bdab7255bc7"
      },
      "source": [
        "targetdata.shape"
      ],
      "execution_count": 0,
      "outputs": [
        {
          "output_type": "execute_result",
          "data": {
            "text/plain": [
              "(25, 28, 4)"
            ]
          },
          "metadata": {
            "tags": []
          },
          "execution_count": 35
        }
      ]
    },
    {
      "cell_type": "code",
      "metadata": {
        "id": "CsbRxx4WQr7w",
        "colab_type": "code",
        "colab": {},
        "outputId": "840146da-f199-4f67-a27f-8d107dc90083"
      },
      "source": [
        "targetdata[0].shape"
      ],
      "execution_count": 0,
      "outputs": [
        {
          "output_type": "execute_result",
          "data": {
            "text/plain": [
              "(28, 4)"
            ]
          },
          "metadata": {
            "tags": []
          },
          "execution_count": 36
        }
      ]
    },
    {
      "cell_type": "code",
      "metadata": {
        "id": "-BlalYZnQr8C",
        "colab_type": "code",
        "colab": {},
        "outputId": "ec28bc95-8a5a-44dd-fb1b-d103560bc995"
      },
      "source": [
        "target.iloc[28+7-5:,1:]"
      ],
      "execution_count": 0,
      "outputs": [
        {
          "output_type": "execute_result",
          "data": {
            "text/html": [
              "<div>\n",
              "<style scoped>\n",
              "    .dataframe tbody tr th:only-of-type {\n",
              "        vertical-align: middle;\n",
              "    }\n",
              "\n",
              "    .dataframe tbody tr th {\n",
              "        vertical-align: top;\n",
              "    }\n",
              "\n",
              "    .dataframe thead th {\n",
              "        text-align: right;\n",
              "    }\n",
              "</style>\n",
              "<table border=\"1\" class=\"dataframe\">\n",
              "  <thead>\n",
              "    <tr style=\"text-align: right;\">\n",
              "      <th></th>\n",
              "      <th>smp_max</th>\n",
              "      <th>smp_min</th>\n",
              "      <th>smp_mean</th>\n",
              "      <th>supply</th>\n",
              "    </tr>\n",
              "  </thead>\n",
              "  <tbody>\n",
              "    <tr>\n",
              "      <th>30</th>\n",
              "      <td>180.97</td>\n",
              "      <td>113.75</td>\n",
              "      <td>133.78</td>\n",
              "      <td>73.19</td>\n",
              "    </tr>\n",
              "    <tr>\n",
              "      <th>31</th>\n",
              "      <td>154.19</td>\n",
              "      <td>94.96</td>\n",
              "      <td>128.29</td>\n",
              "      <td>65.10</td>\n",
              "    </tr>\n",
              "    <tr>\n",
              "      <th>32</th>\n",
              "      <td>180.00</td>\n",
              "      <td>119.48</td>\n",
              "      <td>135.75</td>\n",
              "      <td>76.46</td>\n",
              "    </tr>\n",
              "    <tr>\n",
              "      <th>33</th>\n",
              "      <td>181.06</td>\n",
              "      <td>120.72</td>\n",
              "      <td>134.07</td>\n",
              "      <td>76.67</td>\n",
              "    </tr>\n",
              "    <tr>\n",
              "      <th>34</th>\n",
              "      <td>180.18</td>\n",
              "      <td>120.76</td>\n",
              "      <td>132.96</td>\n",
              "      <td>77.36</td>\n",
              "    </tr>\n",
              "    <tr>\n",
              "      <th>...</th>\n",
              "      <td>...</td>\n",
              "      <td>...</td>\n",
              "      <td>...</td>\n",
              "      <td>...</td>\n",
              "    </tr>\n",
              "    <tr>\n",
              "      <th>725</th>\n",
              "      <td>154.46</td>\n",
              "      <td>78.95</td>\n",
              "      <td>94.07</td>\n",
              "      <td>76.64</td>\n",
              "    </tr>\n",
              "    <tr>\n",
              "      <th>726</th>\n",
              "      <td>156.57</td>\n",
              "      <td>84.80</td>\n",
              "      <td>103.05</td>\n",
              "      <td>80.25</td>\n",
              "    </tr>\n",
              "    <tr>\n",
              "      <th>727</th>\n",
              "      <td>154.78</td>\n",
              "      <td>86.99</td>\n",
              "      <td>109.21</td>\n",
              "      <td>82.90</td>\n",
              "    </tr>\n",
              "    <tr>\n",
              "      <th>728</th>\n",
              "      <td>203.15</td>\n",
              "      <td>84.87</td>\n",
              "      <td>112.85</td>\n",
              "      <td>84.85</td>\n",
              "    </tr>\n",
              "    <tr>\n",
              "      <th>729</th>\n",
              "      <td>205.89</td>\n",
              "      <td>84.80</td>\n",
              "      <td>117.22</td>\n",
              "      <td>86.06</td>\n",
              "    </tr>\n",
              "  </tbody>\n",
              "</table>\n",
              "<p>700 rows × 4 columns</p>\n",
              "</div>"
            ],
            "text/plain": [
              "     smp_max  smp_min  smp_mean  supply\n",
              "30    180.97   113.75    133.78   73.19\n",
              "31    154.19    94.96    128.29   65.10\n",
              "32    180.00   119.48    135.75   76.46\n",
              "33    181.06   120.72    134.07   76.67\n",
              "34    180.18   120.76    132.96   77.36\n",
              "..       ...      ...       ...     ...\n",
              "725   154.46    78.95     94.07   76.64\n",
              "726   156.57    84.80    103.05   80.25\n",
              "727   154.78    86.99    109.21   82.90\n",
              "728   203.15    84.87    112.85   84.85\n",
              "729   205.89    84.80    117.22   86.06\n",
              "\n",
              "[700 rows x 4 columns]"
            ]
          },
          "metadata": {
            "tags": []
          },
          "execution_count": 37
        }
      ]
    },
    {
      "cell_type": "code",
      "metadata": {
        "id": "Zin18rgaQr8R",
        "colab_type": "code",
        "colab": {}
      },
      "source": [
        "# data_gen = TimeseriesGenerator(wthdata, targetdata,\n",
        "#                                length=1, \n",
        "#                                stride=1,\n",
        "#                                batch_size=1)"
      ],
      "execution_count": 0,
      "outputs": []
    },
    {
      "cell_type": "code",
      "metadata": {
        "id": "lI0b6fkrQr8f",
        "colab_type": "code",
        "colab": {}
      },
      "source": [
        "# def create_dataset(signal_data, look_back=1):\n",
        "#     dataX, dataY = [], []\n",
        "#     for i in range(len(signal_data)-look_back):\n",
        "#         dataX.append(signal_data[i:(i+look_back), 0])\n",
        "#         dataY.append(signal_data[i + look_back, 0])\n",
        "#     return np.array(dataX), np.array(dataY)"
      ],
      "execution_count": 0,
      "outputs": []
    },
    {
      "cell_type": "code",
      "metadata": {
        "id": "0ROiGxmGQr8t",
        "colab_type": "code",
        "colab": {}
      },
      "source": [
        "class CustomHistory(keras.callbacks.Callback):\n",
        "    def init(self):\n",
        "        self.train_loss = []\n",
        "        self.val_loss = []\n",
        "        \n",
        "    def on_epoch_end(self, batch, logs={}):\n",
        "        self.train_loss.append(logs.get('loss'))\n",
        "        self.val_loss.append(logs.get('val_loss'))\n",
        "\n",
        "# look_back = 40"
      ],
      "execution_count": 0,
      "outputs": []
    },
    {
      "cell_type": "code",
      "metadata": {
        "id": "AwMVrznsQr87",
        "colab_type": "code",
        "colab": {}
      },
      "source": [
        "# 데이터 분리\n",
        "x_train = wthdata[0:20,:]\n",
        "x_val = wthdata[20:23,:]\n",
        "x_test = wthdata[23:,:]"
      ],
      "execution_count": 0,
      "outputs": []
    },
    {
      "cell_type": "code",
      "metadata": {
        "id": "GpOFgFI4Qr9G",
        "colab_type": "code",
        "colab": {}
      },
      "source": [
        "y_train = targetdata[0:20,:]\n",
        "y_val = targetdata[20:23,:]\n",
        "y_test = targetdata[23:,:]"
      ],
      "execution_count": 0,
      "outputs": []
    },
    {
      "cell_type": "code",
      "metadata": {
        "id": "0hY1nBWbQr9Z",
        "colab_type": "code",
        "colab": {},
        "outputId": "c0fa46f5-068b-4e76-f83c-894651b10d40"
      },
      "source": [
        "x_test.shape"
      ],
      "execution_count": 0,
      "outputs": [
        {
          "output_type": "execute_result",
          "data": {
            "text/plain": [
              "(2, 28, 8)"
            ]
          },
          "metadata": {
            "tags": []
          },
          "execution_count": 107
        }
      ]
    },
    {
      "cell_type": "code",
      "metadata": {
        "id": "EtLm5YSdQr9r",
        "colab_type": "code",
        "colab": {}
      },
      "source": [
        "# # 데이터셋 전처리\n",
        "# x_train = np.reshape(x_train, (x_train.shape[0], x_train.shape[1], 1))\n",
        "# x_val = np.reshape(x_val, (x_val.shape[0], x_val.shape[1], 1))\n",
        "# x_test = np.reshape(x_test, (x_test.shape[0], x_test.shape[1], 1))"
      ],
      "execution_count": 0,
      "outputs": []
    },
    {
      "cell_type": "code",
      "metadata": {
        "id": "TB_5qjUrQr-C",
        "colab_type": "code",
        "colab": {}
      },
      "source": [
        "# 2. 모델 구성하기 \n",
        "# Expected input batch shape: (batch_size N, timesteps 28, data_dim 8)\n",
        "model = Sequential()\n",
        "# for i in range(2):\n",
        "#     model.add(LSTM(4, batch_input_shape=(1, 28, 8), stateful=True, return_sequences=True))\n",
        "#     model.add(Dropout(0.3))\n",
        "# model.add(LSTM(4, batch_input_shape=(1, 28, 4), stateful=True))\n",
        "model.add(Dense(30, activation='relu', input_shape=(28, 8,)))\n",
        "model.add(Dropout(0.3))\n",
        "model.add(Dense(4))"
      ],
      "execution_count": 0,
      "outputs": []
    },
    {
      "cell_type": "code",
      "metadata": {
        "id": "AglvuHeDQr-V",
        "colab_type": "code",
        "colab": {}
      },
      "source": [
        "# 3. 모델 학습과정 설정하기\n",
        "model.compile(loss='mean_squared_error', optimizer='adam')\n",
        "# model.fit_generator(data_gen, steps_per_epoch=1, epochs=10, verbose=1)"
      ],
      "execution_count": 0,
      "outputs": []
    },
    {
      "cell_type": "code",
      "metadata": {
        "id": "jEuSOuNFQr-m",
        "colab_type": "code",
        "colab": {}
      },
      "source": [
        "# 4. 모델 학습시키기\n",
        "custom_hist = CustomHistory()\n",
        "custom_hist.init()"
      ],
      "execution_count": 0,
      "outputs": []
    },
    {
      "cell_type": "code",
      "metadata": {
        "id": "YnZzOpjRQr-6",
        "colab_type": "code",
        "colab": {},
        "outputId": "d2173c54-cb04-4212-941e-24df467e01eb"
      },
      "source": [
        "for i in range(200):\n",
        "    model.fit(x_train, y_train, epochs=1, batch_size=1, shuffle=True, callbacks=[custom_hist], validation_data=(x_val, y_val))\n",
        "#     model.reset_states()\n",
        "\n",
        "# 5. 학습과정 살펴보기\n",
        "plt.plot(custom_hist.train_loss)\n",
        "plt.plot(custom_hist.val_loss)\n",
        "plt.ylim(0.0, 0.15)\n",
        "plt.ylabel('loss')\n",
        "plt.xlabel('epoch')\n",
        "plt.legend(['train', 'val'], loc='upper left')\n",
        "plt.show()"
      ],
      "execution_count": 0,
      "outputs": [
        {
          "output_type": "stream",
          "text": [
            "Train on 20 samples, validate on 3 samples\n",
            "Epoch 1/1\n",
            "20/20 [==============================] - 0s 23ms/step - loss: 19687.6262 - val_loss: 19285.0163\n",
            "Train on 20 samples, validate on 3 samples\n",
            "Epoch 1/1\n",
            "20/20 [==============================] - 0s 5ms/step - loss: 19646.4997 - val_loss: 19237.2090\n",
            "Train on 20 samples, validate on 3 samples\n",
            "Epoch 1/1\n",
            "20/20 [==============================] - 0s 4ms/step - loss: 19593.6769 - val_loss: 19171.4531\n",
            "Train on 20 samples, validate on 3 samples\n",
            "Epoch 1/1\n",
            "20/20 [==============================] - 0s 4ms/step - loss: 19518.9074 - val_loss: 19080.4635\n",
            "Train on 20 samples, validate on 3 samples\n",
            "Epoch 1/1\n",
            "20/20 [==============================] - 0s 5ms/step - loss: 19418.6783 - val_loss: 18960.0033\n",
            "Train on 20 samples, validate on 3 samples\n",
            "Epoch 1/1\n",
            "20/20 [==============================] - 0s 5ms/step - loss: 19286.4613 - val_loss: 18809.6042\n",
            "Train on 20 samples, validate on 3 samples\n",
            "Epoch 1/1\n",
            "20/20 [==============================] - 0s 4ms/step - loss: 19129.2396 - val_loss: 18632.2409\n",
            "Train on 20 samples, validate on 3 samples\n",
            "Epoch 1/1\n",
            "20/20 [==============================] - 0s 4ms/step - loss: 18946.8561 - val_loss: 18413.0684\n",
            "Train on 20 samples, validate on 3 samples\n",
            "Epoch 1/1\n",
            "20/20 [==============================] - 0s 4ms/step - loss: 18710.1629 - val_loss: 18150.4818\n",
            "Train on 20 samples, validate on 3 samples\n",
            "Epoch 1/1\n",
            "20/20 [==============================] - 0s 4ms/step - loss: 18447.2050 - val_loss: 17839.8470\n",
            "Train on 20 samples, validate on 3 samples\n",
            "Epoch 1/1\n",
            "20/20 [==============================] - 0s 4ms/step - loss: 18128.6566 - val_loss: 17471.0850\n",
            "Train on 20 samples, validate on 3 samples\n",
            "Epoch 1/1\n",
            "20/20 [==============================] - 0s 4ms/step - loss: 17761.0293 - val_loss: 17055.9056\n",
            "Train on 20 samples, validate on 3 samples\n",
            "Epoch 1/1\n",
            "20/20 [==============================] - 0s 4ms/step - loss: 17344.6401 - val_loss: 16599.9238\n",
            "Train on 20 samples, validate on 3 samples\n",
            "Epoch 1/1\n",
            "20/20 [==============================] - 0s 4ms/step - loss: 16880.3953 - val_loss: 16105.4635\n",
            "Train on 20 samples, validate on 3 samples\n",
            "Epoch 1/1\n",
            "20/20 [==============================] - 0s 4ms/step - loss: 16379.4824 - val_loss: 15575.0592\n",
            "Train on 20 samples, validate on 3 samples\n",
            "Epoch 1/1\n",
            "20/20 [==============================] - 0s 4ms/step - loss: 15871.4703 - val_loss: 15012.3288\n",
            "Train on 20 samples, validate on 3 samples\n",
            "Epoch 1/1\n",
            "20/20 [==============================] - 0s 4ms/step - loss: 15336.5285 - val_loss: 14414.3809\n",
            "Train on 20 samples, validate on 3 samples\n",
            "Epoch 1/1\n",
            "20/20 [==============================] - 0s 4ms/step - loss: 14760.6976 - val_loss: 13815.4001\n",
            "Train on 20 samples, validate on 3 samples\n",
            "Epoch 1/1\n",
            "20/20 [==============================] - 0s 4ms/step - loss: 14145.4392 - val_loss: 13181.4912\n",
            "Train on 20 samples, validate on 3 samples\n",
            "Epoch 1/1\n",
            "20/20 [==============================] - 0s 4ms/step - loss: 13563.7986 - val_loss: 12525.3187\n",
            "Train on 20 samples, validate on 3 samples\n",
            "Epoch 1/1\n",
            "20/20 [==============================] - 0s 4ms/step - loss: 12919.2435 - val_loss: 11892.6631\n",
            "Train on 20 samples, validate on 3 samples\n",
            "Epoch 1/1\n",
            "20/20 [==============================] - 0s 4ms/step - loss: 12244.6023 - val_loss: 11245.3773\n",
            "Train on 20 samples, validate on 3 samples\n",
            "Epoch 1/1\n",
            "20/20 [==============================] - 0s 4ms/step - loss: 11691.8864 - val_loss: 10589.9176\n",
            "Train on 20 samples, validate on 3 samples\n",
            "Epoch 1/1\n",
            "20/20 [==============================] - 0s 4ms/step - loss: 11081.2667 - val_loss: 9940.1292\n",
            "Train on 20 samples, validate on 3 samples\n",
            "Epoch 1/1\n",
            "20/20 [==============================] - 0s 4ms/step - loss: 10322.4048 - val_loss: 9303.3691\n",
            "Train on 20 samples, validate on 3 samples\n",
            "Epoch 1/1\n",
            "20/20 [==============================] - 0s 4ms/step - loss: 9868.6643 - val_loss: 8668.1117\n",
            "Train on 20 samples, validate on 3 samples\n",
            "Epoch 1/1\n",
            "20/20 [==============================] - 0s 4ms/step - loss: 9170.5953 - val_loss: 8046.4313\n",
            "Train on 20 samples, validate on 3 samples\n",
            "Epoch 1/1\n",
            "20/20 [==============================] - 0s 4ms/step - loss: 8494.3665 - val_loss: 7460.2306\n",
            "Train on 20 samples, validate on 3 samples\n",
            "Epoch 1/1\n",
            "20/20 [==============================] - 0s 4ms/step - loss: 8038.1408 - val_loss: 6894.4613\n",
            "Train on 20 samples, validate on 3 samples\n",
            "Epoch 1/1\n",
            "20/20 [==============================] - 0s 5ms/step - loss: 7403.2890 - val_loss: 6358.0119\n",
            "Train on 20 samples, validate on 3 samples\n",
            "Epoch 1/1\n",
            "20/20 [==============================] - 0s 4ms/step - loss: 7004.7552 - val_loss: 5845.2274\n",
            "Train on 20 samples, validate on 3 samples\n",
            "Epoch 1/1\n",
            "20/20 [==============================] - 0s 4ms/step - loss: 6429.9932 - val_loss: 5354.0026\n",
            "Train on 20 samples, validate on 3 samples\n",
            "Epoch 1/1\n",
            "20/20 [==============================] - 0s 4ms/step - loss: 5936.8891 - val_loss: 4895.0288\n",
            "Train on 20 samples, validate on 3 samples\n",
            "Epoch 1/1\n",
            "20/20 [==============================] - 0s 4ms/step - loss: 5465.3481 - val_loss: 4475.3101\n",
            "Train on 20 samples, validate on 3 samples\n",
            "Epoch 1/1\n",
            "20/20 [==============================] - 0s 4ms/step - loss: 5077.7788 - val_loss: 4087.9504\n",
            "Train on 20 samples, validate on 3 samples\n",
            "Epoch 1/1\n",
            "20/20 [==============================] - 0s 4ms/step - loss: 4589.8696 - val_loss: 3718.3122\n",
            "Train on 20 samples, validate on 3 samples\n",
            "Epoch 1/1\n",
            "20/20 [==============================] - 0s 4ms/step - loss: 4241.3319 - val_loss: 3381.0276\n",
            "Train on 20 samples, validate on 3 samples\n",
            "Epoch 1/1\n",
            "20/20 [==============================] - 0s 4ms/step - loss: 3882.0646 - val_loss: 3074.4647\n",
            "Train on 20 samples, validate on 3 samples\n",
            "Epoch 1/1\n",
            "20/20 [==============================] - 0s 4ms/step - loss: 3550.9322 - val_loss: 2799.8650\n",
            "Train on 20 samples, validate on 3 samples\n",
            "Epoch 1/1\n",
            "20/20 [==============================] - 0s 4ms/step - loss: 3442.4148 - val_loss: 2545.4678\n",
            "Train on 20 samples, validate on 3 samples\n",
            "Epoch 1/1\n",
            "20/20 [==============================] - 0s 4ms/step - loss: 3028.4779 - val_loss: 2321.7679\n",
            "Train on 20 samples, validate on 3 samples\n",
            "Epoch 1/1\n",
            "20/20 [==============================] - 0s 4ms/step - loss: 2824.2211 - val_loss: 2114.0461\n",
            "Train on 20 samples, validate on 3 samples\n",
            "Epoch 1/1\n",
            "20/20 [==============================] - 0s 4ms/step - loss: 2687.6127 - val_loss: 1929.5507\n",
            "Train on 20 samples, validate on 3 samples\n",
            "Epoch 1/1\n",
            "20/20 [==============================] - 0s 4ms/step - loss: 2408.7331 - val_loss: 1767.1283\n",
            "Train on 20 samples, validate on 3 samples\n",
            "Epoch 1/1\n",
            "20/20 [==============================] - 0s 4ms/step - loss: 2269.7331 - val_loss: 1620.1691\n",
            "Train on 20 samples, validate on 3 samples\n",
            "Epoch 1/1\n",
            "20/20 [==============================] - 0s 4ms/step - loss: 2014.0998 - val_loss: 1495.5595\n",
            "Train on 20 samples, validate on 3 samples\n",
            "Epoch 1/1\n",
            "20/20 [==============================] - 0s 4ms/step - loss: 1893.8831 - val_loss: 1377.9761\n",
            "Train on 20 samples, validate on 3 samples\n",
            "Epoch 1/1\n",
            "20/20 [==============================] - 0s 4ms/step - loss: 1706.8215 - val_loss: 1281.9227\n",
            "Train on 20 samples, validate on 3 samples\n",
            "Epoch 1/1\n",
            "20/20 [==============================] - 0s 4ms/step - loss: 1680.4631 - val_loss: 1196.0059\n",
            "Train on 20 samples, validate on 3 samples\n",
            "Epoch 1/1\n",
            "20/20 [==============================] - 0s 4ms/step - loss: 1509.8561 - val_loss: 1121.8416\n",
            "Train on 20 samples, validate on 3 samples\n",
            "Epoch 1/1\n",
            "20/20 [==============================] - 0s 4ms/step - loss: 1574.4310 - val_loss: 1060.6890\n",
            "Train on 20 samples, validate on 3 samples\n",
            "Epoch 1/1\n",
            "20/20 [==============================] - 0s 4ms/step - loss: 1410.0037 - val_loss: 1007.8321\n",
            "Train on 20 samples, validate on 3 samples\n",
            "Epoch 1/1\n",
            "20/20 [==============================] - 0s 4ms/step - loss: 1349.9067 - val_loss: 963.6052\n",
            "Train on 20 samples, validate on 3 samples\n",
            "Epoch 1/1\n",
            "20/20 [==============================] - 0s 4ms/step - loss: 1354.2354 - val_loss: 924.5399\n",
            "Train on 20 samples, validate on 3 samples\n",
            "Epoch 1/1\n",
            "20/20 [==============================] - 0s 4ms/step - loss: 1203.2350 - val_loss: 893.8550\n",
            "Train on 20 samples, validate on 3 samples\n",
            "Epoch 1/1\n"
          ],
          "name": "stdout"
        },
        {
          "output_type": "stream",
          "text": [
            "20/20 [==============================] - 0s 4ms/step - loss: 1179.5830 - val_loss: 865.5301\n",
            "Train on 20 samples, validate on 3 samples\n",
            "Epoch 1/1\n",
            "20/20 [==============================] - 0s 4ms/step - loss: 1185.3226 - val_loss: 843.7569\n",
            "Train on 20 samples, validate on 3 samples\n",
            "Epoch 1/1\n",
            "20/20 [==============================] - 0s 4ms/step - loss: 1146.9880 - val_loss: 825.2475\n",
            "Train on 20 samples, validate on 3 samples\n",
            "Epoch 1/1\n",
            "20/20 [==============================] - 0s 4ms/step - loss: 1139.1388 - val_loss: 809.7214\n",
            "Train on 20 samples, validate on 3 samples\n",
            "Epoch 1/1\n",
            "20/20 [==============================] - 0s 4ms/step - loss: 1036.1396 - val_loss: 795.2792\n",
            "Train on 20 samples, validate on 3 samples\n",
            "Epoch 1/1\n",
            "20/20 [==============================] - 0s 4ms/step - loss: 1014.7408 - val_loss: 784.3922\n",
            "Train on 20 samples, validate on 3 samples\n",
            "Epoch 1/1\n",
            "20/20 [==============================] - 0s 4ms/step - loss: 1059.7970 - val_loss: 775.5595\n",
            "Train on 20 samples, validate on 3 samples\n",
            "Epoch 1/1\n",
            "20/20 [==============================] - 0s 4ms/step - loss: 1069.9942 - val_loss: 768.8597\n",
            "Train on 20 samples, validate on 3 samples\n",
            "Epoch 1/1\n",
            "20/20 [==============================] - 0s 4ms/step - loss: 937.0081 - val_loss: 761.3237\n",
            "Train on 20 samples, validate on 3 samples\n",
            "Epoch 1/1\n",
            "20/20 [==============================] - 0s 4ms/step - loss: 963.2584 - val_loss: 752.9274\n",
            "Train on 20 samples, validate on 3 samples\n",
            "Epoch 1/1\n",
            "20/20 [==============================] - 0s 4ms/step - loss: 971.9601 - val_loss: 745.6448\n",
            "Train on 20 samples, validate on 3 samples\n",
            "Epoch 1/1\n",
            "20/20 [==============================] - 0s 4ms/step - loss: 992.1529 - val_loss: 746.5670\n",
            "Train on 20 samples, validate on 3 samples\n",
            "Epoch 1/1\n",
            "20/20 [==============================] - 0s 4ms/step - loss: 952.7913 - val_loss: 742.8509\n",
            "Train on 20 samples, validate on 3 samples\n",
            "Epoch 1/1\n",
            "20/20 [==============================] - 0s 4ms/step - loss: 989.3452 - val_loss: 739.9916\n",
            "Train on 20 samples, validate on 3 samples\n",
            "Epoch 1/1\n",
            "20/20 [==============================] - 0s 4ms/step - loss: 988.3323 - val_loss: 740.4490\n",
            "Train on 20 samples, validate on 3 samples\n",
            "Epoch 1/1\n",
            "20/20 [==============================] - 0s 4ms/step - loss: 894.0430 - val_loss: 738.3252\n",
            "Train on 20 samples, validate on 3 samples\n",
            "Epoch 1/1\n",
            "20/20 [==============================] - 0s 4ms/step - loss: 898.8023 - val_loss: 741.9621\n",
            "Train on 20 samples, validate on 3 samples\n",
            "Epoch 1/1\n",
            "20/20 [==============================] - 0s 4ms/step - loss: 1026.5358 - val_loss: 738.2245\n",
            "Train on 20 samples, validate on 3 samples\n",
            "Epoch 1/1\n",
            "20/20 [==============================] - 0s 4ms/step - loss: 948.1527 - val_loss: 735.3621\n",
            "Train on 20 samples, validate on 3 samples\n",
            "Epoch 1/1\n",
            "20/20 [==============================] - 0s 4ms/step - loss: 908.9486 - val_loss: 732.2659\n",
            "Train on 20 samples, validate on 3 samples\n",
            "Epoch 1/1\n",
            "20/20 [==============================] - 0s 4ms/step - loss: 887.7099 - val_loss: 723.9342\n",
            "Train on 20 samples, validate on 3 samples\n",
            "Epoch 1/1\n",
            "20/20 [==============================] - 0s 4ms/step - loss: 909.7193 - val_loss: 720.2347\n",
            "Train on 20 samples, validate on 3 samples\n",
            "Epoch 1/1\n",
            "20/20 [==============================] - 0s 4ms/step - loss: 962.0704 - val_loss: 722.3924\n",
            "Train on 20 samples, validate on 3 samples\n",
            "Epoch 1/1\n",
            "20/20 [==============================] - 0s 4ms/step - loss: 918.8900 - val_loss: 719.5445\n",
            "Train on 20 samples, validate on 3 samples\n",
            "Epoch 1/1\n",
            "20/20 [==============================] - 0s 4ms/step - loss: 969.4339 - val_loss: 720.5817\n",
            "Train on 20 samples, validate on 3 samples\n",
            "Epoch 1/1\n",
            "20/20 [==============================] - 0s 4ms/step - loss: 974.5626 - val_loss: 714.9422\n",
            "Train on 20 samples, validate on 3 samples\n",
            "Epoch 1/1\n",
            "20/20 [==============================] - 0s 4ms/step - loss: 1012.4485 - val_loss: 707.5599\n",
            "Train on 20 samples, validate on 3 samples\n",
            "Epoch 1/1\n",
            "20/20 [==============================] - 0s 4ms/step - loss: 866.7947 - val_loss: 713.7996\n",
            "Train on 20 samples, validate on 3 samples\n",
            "Epoch 1/1\n",
            "20/20 [==============================] - 0s 4ms/step - loss: 910.8239 - val_loss: 715.0073\n",
            "Train on 20 samples, validate on 3 samples\n",
            "Epoch 1/1\n",
            "20/20 [==============================] - 0s 4ms/step - loss: 957.5892 - val_loss: 717.2645\n",
            "Train on 20 samples, validate on 3 samples\n",
            "Epoch 1/1\n",
            "20/20 [==============================] - 0s 4ms/step - loss: 939.9637 - val_loss: 713.5614\n",
            "Train on 20 samples, validate on 3 samples\n",
            "Epoch 1/1\n",
            "20/20 [==============================] - 0s 4ms/step - loss: 916.1391 - val_loss: 712.0837\n",
            "Train on 20 samples, validate on 3 samples\n",
            "Epoch 1/1\n",
            "20/20 [==============================] - 0s 5ms/step - loss: 899.1094 - val_loss: 711.2864\n",
            "Train on 20 samples, validate on 3 samples\n",
            "Epoch 1/1\n",
            "20/20 [==============================] - 0s 4ms/step - loss: 957.8212 - val_loss: 706.7080\n",
            "Train on 20 samples, validate on 3 samples\n",
            "Epoch 1/1\n",
            "20/20 [==============================] - 0s 4ms/step - loss: 891.6884 - val_loss: 701.0243\n",
            "Train on 20 samples, validate on 3 samples\n",
            "Epoch 1/1\n",
            "20/20 [==============================] - 0s 4ms/step - loss: 909.2690 - val_loss: 705.1304\n",
            "Train on 20 samples, validate on 3 samples\n",
            "Epoch 1/1\n",
            "20/20 [==============================] - 0s 4ms/step - loss: 893.2397 - val_loss: 696.2791\n",
            "Train on 20 samples, validate on 3 samples\n",
            "Epoch 1/1\n",
            "20/20 [==============================] - 0s 4ms/step - loss: 887.4332 - val_loss: 695.8137\n",
            "Train on 20 samples, validate on 3 samples\n",
            "Epoch 1/1\n",
            "20/20 [==============================] - 0s 4ms/step - loss: 955.3001 - val_loss: 694.9970\n",
            "Train on 20 samples, validate on 3 samples\n",
            "Epoch 1/1\n",
            "20/20 [==============================] - 0s 4ms/step - loss: 865.7181 - val_loss: 697.5967\n",
            "Train on 20 samples, validate on 3 samples\n",
            "Epoch 1/1\n",
            "20/20 [==============================] - 0s 4ms/step - loss: 912.9673 - val_loss: 698.9979\n",
            "Train on 20 samples, validate on 3 samples\n",
            "Epoch 1/1\n",
            "20/20 [==============================] - 0s 4ms/step - loss: 858.9348 - val_loss: 696.8425\n",
            "Train on 20 samples, validate on 3 samples\n",
            "Epoch 1/1\n",
            "20/20 [==============================] - 0s 4ms/step - loss: 852.5894 - val_loss: 698.6702\n",
            "Train on 20 samples, validate on 3 samples\n",
            "Epoch 1/1\n",
            "20/20 [==============================] - 0s 4ms/step - loss: 910.9153 - val_loss: 697.9468\n",
            "Train on 20 samples, validate on 3 samples\n",
            "Epoch 1/1\n",
            "20/20 [==============================] - 0s 4ms/step - loss: 917.1990 - val_loss: 693.6609\n",
            "Train on 20 samples, validate on 3 samples\n",
            "Epoch 1/1\n",
            "20/20 [==============================] - 0s 4ms/step - loss: 982.1286 - val_loss: 701.5134\n",
            "Train on 20 samples, validate on 3 samples\n",
            "Epoch 1/1\n",
            "20/20 [==============================] - 0s 4ms/step - loss: 896.7177 - val_loss: 695.7492\n",
            "Train on 20 samples, validate on 3 samples\n",
            "Epoch 1/1\n",
            "20/20 [==============================] - 0s 4ms/step - loss: 878.3086 - val_loss: 689.0593\n",
            "Train on 20 samples, validate on 3 samples\n",
            "Epoch 1/1\n",
            "20/20 [==============================] - 0s 4ms/step - loss: 865.9020 - val_loss: 694.6118\n",
            "Train on 20 samples, validate on 3 samples\n",
            "Epoch 1/1\n",
            "20/20 [==============================] - 0s 4ms/step - loss: 823.7787 - val_loss: 696.6395\n",
            "Train on 20 samples, validate on 3 samples\n",
            "Epoch 1/1\n",
            "20/20 [==============================] - 0s 4ms/step - loss: 880.7146 - val_loss: 697.5867\n",
            "Train on 20 samples, validate on 3 samples\n",
            "Epoch 1/1\n",
            "20/20 [==============================] - 0s 4ms/step - loss: 887.9873 - val_loss: 690.5938\n",
            "Train on 20 samples, validate on 3 samples\n",
            "Epoch 1/1\n",
            "20/20 [==============================] - 0s 4ms/step - loss: 882.9310 - val_loss: 694.5260\n",
            "Train on 20 samples, validate on 3 samples\n",
            "Epoch 1/1\n",
            "20/20 [==============================] - 0s 4ms/step - loss: 846.1593 - val_loss: 695.3491\n",
            "Train on 20 samples, validate on 3 samples\n",
            "Epoch 1/1\n",
            "20/20 [==============================] - 0s 4ms/step - loss: 880.6958 - val_loss: 696.2598\n",
            "Train on 20 samples, validate on 3 samples\n",
            "Epoch 1/1\n",
            "20/20 [==============================] - 0s 4ms/step - loss: 878.4390 - val_loss: 696.1240\n",
            "Train on 20 samples, validate on 3 samples\n",
            "Epoch 1/1\n",
            "20/20 [==============================] - 0s 4ms/step - loss: 911.7782 - val_loss: 694.2219\n",
            "Train on 20 samples, validate on 3 samples\n",
            "Epoch 1/1\n"
          ],
          "name": "stdout"
        },
        {
          "output_type": "stream",
          "text": [
            "20/20 [==============================] - 0s 4ms/step - loss: 921.8962 - val_loss: 697.3417\n",
            "Train on 20 samples, validate on 3 samples\n",
            "Epoch 1/1\n",
            "20/20 [==============================] - 0s 4ms/step - loss: 988.5010 - val_loss: 700.0644\n",
            "Train on 20 samples, validate on 3 samples\n",
            "Epoch 1/1\n",
            "20/20 [==============================] - 0s 4ms/step - loss: 872.0710 - val_loss: 701.5736\n",
            "Train on 20 samples, validate on 3 samples\n",
            "Epoch 1/1\n",
            "20/20 [==============================] - 0s 4ms/step - loss: 829.2050 - val_loss: 696.3341\n",
            "Train on 20 samples, validate on 3 samples\n",
            "Epoch 1/1\n",
            "20/20 [==============================] - 0s 4ms/step - loss: 971.6390 - val_loss: 690.1824\n",
            "Train on 20 samples, validate on 3 samples\n",
            "Epoch 1/1\n",
            "20/20 [==============================] - 0s 4ms/step - loss: 865.4880 - val_loss: 699.0646\n",
            "Train on 20 samples, validate on 3 samples\n",
            "Epoch 1/1\n",
            "20/20 [==============================] - 0s 4ms/step - loss: 913.8883 - val_loss: 693.4705\n",
            "Train on 20 samples, validate on 3 samples\n",
            "Epoch 1/1\n",
            "20/20 [==============================] - 0s 4ms/step - loss: 891.5099 - val_loss: 680.6019\n",
            "Train on 20 samples, validate on 3 samples\n",
            "Epoch 1/1\n",
            "20/20 [==============================] - 0s 4ms/step - loss: 922.5952 - val_loss: 686.5529\n",
            "Train on 20 samples, validate on 3 samples\n",
            "Epoch 1/1\n",
            "20/20 [==============================] - 0s 4ms/step - loss: 911.3017 - val_loss: 680.9179\n",
            "Train on 20 samples, validate on 3 samples\n",
            "Epoch 1/1\n",
            "20/20 [==============================] - 0s 4ms/step - loss: 907.3339 - val_loss: 691.3239\n",
            "Train on 20 samples, validate on 3 samples\n",
            "Epoch 1/1\n",
            "20/20 [==============================] - 0s 4ms/step - loss: 807.0872 - val_loss: 684.8560\n",
            "Train on 20 samples, validate on 3 samples\n",
            "Epoch 1/1\n",
            "20/20 [==============================] - 0s 4ms/step - loss: 808.0544 - val_loss: 689.8760\n",
            "Train on 20 samples, validate on 3 samples\n",
            "Epoch 1/1\n",
            "20/20 [==============================] - 0s 4ms/step - loss: 911.4628 - val_loss: 691.5834\n",
            "Train on 20 samples, validate on 3 samples\n",
            "Epoch 1/1\n",
            "20/20 [==============================] - 0s 4ms/step - loss: 865.2427 - val_loss: 693.2564\n",
            "Train on 20 samples, validate on 3 samples\n",
            "Epoch 1/1\n",
            "20/20 [==============================] - 0s 4ms/step - loss: 798.3691 - val_loss: 684.2175\n",
            "Train on 20 samples, validate on 3 samples\n",
            "Epoch 1/1\n",
            "20/20 [==============================] - 0s 4ms/step - loss: 793.1253 - val_loss: 694.7302\n",
            "Train on 20 samples, validate on 3 samples\n",
            "Epoch 1/1\n",
            "20/20 [==============================] - 0s 4ms/step - loss: 899.9138 - val_loss: 679.2097\n",
            "Train on 20 samples, validate on 3 samples\n",
            "Epoch 1/1\n",
            "20/20 [==============================] - 0s 4ms/step - loss: 852.7253 - val_loss: 678.8531\n",
            "Train on 20 samples, validate on 3 samples\n",
            "Epoch 1/1\n",
            "20/20 [==============================] - 0s 4ms/step - loss: 928.8652 - val_loss: 680.8707\n",
            "Train on 20 samples, validate on 3 samples\n",
            "Epoch 1/1\n",
            "20/20 [==============================] - 0s 4ms/step - loss: 874.6363 - val_loss: 684.0962\n",
            "Train on 20 samples, validate on 3 samples\n",
            "Epoch 1/1\n",
            "20/20 [==============================] - 0s 4ms/step - loss: 885.6992 - val_loss: 679.1430\n",
            "Train on 20 samples, validate on 3 samples\n",
            "Epoch 1/1\n",
            "20/20 [==============================] - 0s 4ms/step - loss: 901.8701 - val_loss: 685.0895\n",
            "Train on 20 samples, validate on 3 samples\n",
            "Epoch 1/1\n",
            "20/20 [==============================] - 0s 4ms/step - loss: 822.8543 - val_loss: 682.9097\n",
            "Train on 20 samples, validate on 3 samples\n",
            "Epoch 1/1\n",
            "20/20 [==============================] - 0s 4ms/step - loss: 942.8838 - val_loss: 684.9045\n",
            "Train on 20 samples, validate on 3 samples\n",
            "Epoch 1/1\n",
            "20/20 [==============================] - 0s 4ms/step - loss: 843.4860 - val_loss: 679.3272\n",
            "Train on 20 samples, validate on 3 samples\n",
            "Epoch 1/1\n",
            "20/20 [==============================] - 0s 4ms/step - loss: 806.9397 - val_loss: 671.5272\n",
            "Train on 20 samples, validate on 3 samples\n",
            "Epoch 1/1\n",
            "20/20 [==============================] - 0s 4ms/step - loss: 883.7036 - val_loss: 686.8102\n",
            "Train on 20 samples, validate on 3 samples\n",
            "Epoch 1/1\n",
            "20/20 [==============================] - 0s 4ms/step - loss: 866.3235 - val_loss: 676.6510\n",
            "Train on 20 samples, validate on 3 samples\n",
            "Epoch 1/1\n",
            "20/20 [==============================] - 0s 4ms/step - loss: 844.8373 - val_loss: 671.3116\n",
            "Train on 20 samples, validate on 3 samples\n",
            "Epoch 1/1\n",
            "20/20 [==============================] - 0s 4ms/step - loss: 854.5584 - val_loss: 668.7738\n",
            "Train on 20 samples, validate on 3 samples\n",
            "Epoch 1/1\n",
            "20/20 [==============================] - 0s 4ms/step - loss: 891.6385 - val_loss: 676.4618\n",
            "Train on 20 samples, validate on 3 samples\n",
            "Epoch 1/1\n",
            "20/20 [==============================] - 0s 4ms/step - loss: 851.0897 - val_loss: 680.8841\n",
            "Train on 20 samples, validate on 3 samples\n",
            "Epoch 1/1\n",
            "20/20 [==============================] - 0s 5ms/step - loss: 826.9124 - val_loss: 676.2585\n",
            "Train on 20 samples, validate on 3 samples\n",
            "Epoch 1/1\n",
            "20/20 [==============================] - 0s 4ms/step - loss: 917.4578 - val_loss: 678.5477\n",
            "Train on 20 samples, validate on 3 samples\n",
            "Epoch 1/1\n",
            "20/20 [==============================] - 0s 4ms/step - loss: 849.3555 - val_loss: 676.3073\n",
            "Train on 20 samples, validate on 3 samples\n",
            "Epoch 1/1\n",
            "20/20 [==============================] - 0s 4ms/step - loss: 806.8872 - val_loss: 680.6380\n",
            "Train on 20 samples, validate on 3 samples\n",
            "Epoch 1/1\n",
            "20/20 [==============================] - 0s 4ms/step - loss: 829.4326 - val_loss: 681.3448\n",
            "Train on 20 samples, validate on 3 samples\n",
            "Epoch 1/1\n",
            "20/20 [==============================] - 0s 4ms/step - loss: 857.8931 - val_loss: 688.2410\n",
            "Train on 20 samples, validate on 3 samples\n",
            "Epoch 1/1\n",
            "20/20 [==============================] - 0s 4ms/step - loss: 869.8910 - val_loss: 687.8449\n",
            "Train on 20 samples, validate on 3 samples\n",
            "Epoch 1/1\n",
            "20/20 [==============================] - 0s 4ms/step - loss: 879.8215 - val_loss: 677.3752\n",
            "Train on 20 samples, validate on 3 samples\n",
            "Epoch 1/1\n",
            "20/20 [==============================] - 0s 4ms/step - loss: 812.1392 - val_loss: 683.1854\n",
            "Train on 20 samples, validate on 3 samples\n",
            "Epoch 1/1\n",
            "20/20 [==============================] - 0s 4ms/step - loss: 875.0127 - val_loss: 676.6840\n",
            "Train on 20 samples, validate on 3 samples\n",
            "Epoch 1/1\n",
            "20/20 [==============================] - 0s 4ms/step - loss: 838.4578 - val_loss: 679.1952\n",
            "Train on 20 samples, validate on 3 samples\n",
            "Epoch 1/1\n",
            "20/20 [==============================] - 0s 4ms/step - loss: 827.5900 - val_loss: 672.8032\n",
            "Train on 20 samples, validate on 3 samples\n",
            "Epoch 1/1\n",
            "20/20 [==============================] - 0s 4ms/step - loss: 849.4342 - val_loss: 671.5845\n",
            "Train on 20 samples, validate on 3 samples\n",
            "Epoch 1/1\n",
            "20/20 [==============================] - 0s 4ms/step - loss: 849.5871 - val_loss: 673.8189\n",
            "Train on 20 samples, validate on 3 samples\n",
            "Epoch 1/1\n",
            "20/20 [==============================] - 0s 4ms/step - loss: 904.2540 - val_loss: 676.0900\n",
            "Train on 20 samples, validate on 3 samples\n",
            "Epoch 1/1\n",
            "20/20 [==============================] - 0s 4ms/step - loss: 916.0793 - val_loss: 670.3389\n",
            "Train on 20 samples, validate on 3 samples\n",
            "Epoch 1/1\n",
            "20/20 [==============================] - 0s 4ms/step - loss: 871.3095 - val_loss: 671.2413\n",
            "Train on 20 samples, validate on 3 samples\n",
            "Epoch 1/1\n",
            "20/20 [==============================] - 0s 4ms/step - loss: 855.0231 - val_loss: 673.9559\n",
            "Train on 20 samples, validate on 3 samples\n",
            "Epoch 1/1\n",
            "20/20 [==============================] - 0s 4ms/step - loss: 829.1187 - val_loss: 679.9462\n",
            "Train on 20 samples, validate on 3 samples\n",
            "Epoch 1/1\n",
            "20/20 [==============================] - 0s 4ms/step - loss: 847.7530 - val_loss: 683.9997\n",
            "Train on 20 samples, validate on 3 samples\n",
            "Epoch 1/1\n",
            "20/20 [==============================] - 0s 4ms/step - loss: 833.6203 - val_loss: 677.1260\n",
            "Train on 20 samples, validate on 3 samples\n",
            "Epoch 1/1\n",
            "20/20 [==============================] - 0s 4ms/step - loss: 781.9681 - val_loss: 677.2283\n",
            "Train on 20 samples, validate on 3 samples\n",
            "Epoch 1/1\n",
            "20/20 [==============================] - 0s 4ms/step - loss: 849.8595 - val_loss: 666.2839\n",
            "Train on 20 samples, validate on 3 samples\n",
            "Epoch 1/1\n",
            "20/20 [==============================] - 0s 4ms/step - loss: 847.9859 - val_loss: 669.5406\n",
            "Train on 20 samples, validate on 3 samples\n"
          ],
          "name": "stdout"
        },
        {
          "output_type": "stream",
          "text": [
            "Epoch 1/1\n",
            "20/20 [==============================] - 0s 4ms/step - loss: 854.9805 - val_loss: 660.8575\n",
            "Train on 20 samples, validate on 3 samples\n",
            "Epoch 1/1\n",
            "20/20 [==============================] - 0s 4ms/step - loss: 774.0136 - val_loss: 661.8795\n",
            "Train on 20 samples, validate on 3 samples\n",
            "Epoch 1/1\n",
            "20/20 [==============================] - 0s 4ms/step - loss: 856.5185 - val_loss: 664.8558\n",
            "Train on 20 samples, validate on 3 samples\n",
            "Epoch 1/1\n",
            "20/20 [==============================] - 0s 4ms/step - loss: 910.4762 - val_loss: 661.4196\n",
            "Train on 20 samples, validate on 3 samples\n",
            "Epoch 1/1\n",
            "20/20 [==============================] - 0s 4ms/step - loss: 841.8058 - val_loss: 660.5942\n",
            "Train on 20 samples, validate on 3 samples\n",
            "Epoch 1/1\n",
            "20/20 [==============================] - 0s 4ms/step - loss: 854.4591 - val_loss: 659.1631\n",
            "Train on 20 samples, validate on 3 samples\n",
            "Epoch 1/1\n",
            "20/20 [==============================] - 0s 4ms/step - loss: 829.1487 - val_loss: 663.6157\n",
            "Train on 20 samples, validate on 3 samples\n",
            "Epoch 1/1\n",
            "20/20 [==============================] - 0s 4ms/step - loss: 819.9398 - val_loss: 661.5146\n",
            "Train on 20 samples, validate on 3 samples\n",
            "Epoch 1/1\n",
            "20/20 [==============================] - 0s 4ms/step - loss: 830.2402 - val_loss: 667.5186\n",
            "Train on 20 samples, validate on 3 samples\n",
            "Epoch 1/1\n",
            "20/20 [==============================] - 0s 4ms/step - loss: 922.6059 - val_loss: 662.6137\n",
            "Train on 20 samples, validate on 3 samples\n",
            "Epoch 1/1\n",
            "20/20 [==============================] - 0s 4ms/step - loss: 894.4445 - val_loss: 663.4646\n",
            "Train on 20 samples, validate on 3 samples\n",
            "Epoch 1/1\n",
            "20/20 [==============================] - 0s 4ms/step - loss: 788.6793 - val_loss: 662.1904\n",
            "Train on 20 samples, validate on 3 samples\n",
            "Epoch 1/1\n",
            "20/20 [==============================] - 0s 4ms/step - loss: 895.0702 - val_loss: 665.5692\n",
            "Train on 20 samples, validate on 3 samples\n",
            "Epoch 1/1\n",
            "20/20 [==============================] - 0s 4ms/step - loss: 875.2651 - val_loss: 672.5272\n",
            "Train on 20 samples, validate on 3 samples\n",
            "Epoch 1/1\n",
            "20/20 [==============================] - 0s 4ms/step - loss: 868.9167 - val_loss: 667.2151\n",
            "Train on 20 samples, validate on 3 samples\n",
            "Epoch 1/1\n",
            "20/20 [==============================] - 0s 4ms/step - loss: 825.6517 - val_loss: 657.0190\n",
            "Train on 20 samples, validate on 3 samples\n",
            "Epoch 1/1\n",
            "20/20 [==============================] - 0s 4ms/step - loss: 782.3304 - val_loss: 657.7390\n",
            "Train on 20 samples, validate on 3 samples\n",
            "Epoch 1/1\n",
            "20/20 [==============================] - 0s 4ms/step - loss: 876.9234 - val_loss: 654.5114\n",
            "Train on 20 samples, validate on 3 samples\n",
            "Epoch 1/1\n",
            "20/20 [==============================] - 0s 4ms/step - loss: 869.8254 - val_loss: 654.0998\n",
            "Train on 20 samples, validate on 3 samples\n",
            "Epoch 1/1\n",
            "20/20 [==============================] - 0s 4ms/step - loss: 879.0066 - val_loss: 655.8054\n",
            "Train on 20 samples, validate on 3 samples\n",
            "Epoch 1/1\n",
            "20/20 [==============================] - 0s 4ms/step - loss: 775.2148 - val_loss: 653.7543\n",
            "Train on 20 samples, validate on 3 samples\n",
            "Epoch 1/1\n",
            "20/20 [==============================] - 0s 4ms/step - loss: 901.2475 - val_loss: 665.8739\n",
            "Train on 20 samples, validate on 3 samples\n",
            "Epoch 1/1\n",
            "20/20 [==============================] - 0s 4ms/step - loss: 769.8118 - val_loss: 653.2760\n",
            "Train on 20 samples, validate on 3 samples\n",
            "Epoch 1/1\n",
            "20/20 [==============================] - 0s 4ms/step - loss: 878.6228 - val_loss: 649.5106\n",
            "Train on 20 samples, validate on 3 samples\n",
            "Epoch 1/1\n",
            "20/20 [==============================] - 0s 4ms/step - loss: 790.4192 - val_loss: 651.0805\n",
            "Train on 20 samples, validate on 3 samples\n",
            "Epoch 1/1\n",
            "20/20 [==============================] - 0s 4ms/step - loss: 845.6330 - val_loss: 656.1904\n",
            "Train on 20 samples, validate on 3 samples\n",
            "Epoch 1/1\n",
            "20/20 [==============================] - 0s 4ms/step - loss: 852.0994 - val_loss: 659.4421\n",
            "Train on 20 samples, validate on 3 samples\n",
            "Epoch 1/1\n",
            "20/20 [==============================] - 0s 4ms/step - loss: 806.2609 - val_loss: 648.5967\n",
            "Train on 20 samples, validate on 3 samples\n",
            "Epoch 1/1\n",
            "20/20 [==============================] - 0s 4ms/step - loss: 868.7032 - val_loss: 660.3973\n",
            "Train on 20 samples, validate on 3 samples\n",
            "Epoch 1/1\n",
            "20/20 [==============================] - 0s 4ms/step - loss: 852.9067 - val_loss: 660.0104\n",
            "Train on 20 samples, validate on 3 samples\n",
            "Epoch 1/1\n",
            "20/20 [==============================] - 0s 4ms/step - loss: 818.7126 - val_loss: 647.3268\n"
          ],
          "name": "stdout"
        },
        {
          "output_type": "display_data",
          "data": {
            "image/png": "[encoded data removed]",
            "text/plain": [
              "<Figure size 432x288 with 1 Axes>"
            ]
          },
          "metadata": {
            "tags": [],
            "needs_background": "light"
          }
        }
      ]
    },
    {
      "cell_type": "code",
      "metadata": {
        "id": "kM7_Y5dpQr_K",
        "colab_type": "code",
        "colab": {},
        "outputId": "95fda584-79aa-431c-be39-61f2a6798334"
      },
      "source": [
        "# 6. 모델 평가하기\n",
        "trainScore = model.evaluate(x_train, y_train, batch_size=1, verbose=0)\n",
        "model.reset_states()\n",
        "print('Train Score: ', trainScore)\n",
        "valScore = model.evaluate(x_val, y_val, batch_size=1, verbose=0)\n",
        "model.reset_states()\n",
        "print('Validataion Score: ', valScore)\n",
        "testScore = model.evaluate(x_test, y_test, batch_size=1, verbose=0)\n",
        "model.reset_states()\n",
        "print('Test Score: ', testScore)"
      ],
      "execution_count": 0,
      "outputs": [
        {
          "output_type": "stream",
          "text": [
            "Train Score:  438.69857635498045\n",
            "Validataion Score:  647.3267822265625\n",
            "Test Score:  754.2943725585938\n"
          ],
          "name": "stdout"
        }
      ]
    },
    {
      "cell_type": "code",
      "metadata": {
        "id": "9H1V8Cj2Qr_U",
        "colab_type": "code",
        "colab": {},
        "outputId": "b77cd343-3ae0-4ebd-c10a-9ac55767ec50"
      },
      "source": [
        "y_test[0]"
      ],
      "execution_count": 0,
      "outputs": [
        {
          "output_type": "execute_result",
          "data": {
            "text/plain": [
              "array([[199.44,  88.23, 160.68,  80.8 ],\n",
              "       [179.37,  88.23, 151.54,  74.76],\n",
              "       [176.7 ,  88.23, 153.32,  80.93],\n",
              "       [191.04,  88.23, 145.43,  75.2 ],\n",
              "       [180.72,  88.23, 148.62,  77.07],\n",
              "       [188.45,  88.23, 141.82,  81.14],\n",
              "       [169.18,  88.23, 122.79,  77.47],\n",
              "       [146.9 ,  88.18, 107.72,  75.64],\n",
              "       [152.63,  87.63, 109.63,  70.11],\n",
              "       [196.99,  88.23, 124.52,  73.9 ],\n",
              "       [145.51,  85.65, 107.8 ,  73.88],\n",
              "       [146.37,  85.57, 113.87,  80.47],\n",
              "       [146.32,  85.56, 115.52,  81.56],\n",
              "       [197.87,  85.44, 113.8 ,  80.89],\n",
              "       [153.66,  83.73, 104.44,  77.5 ],\n",
              "       [138.02,  82.35,  99.62,  76.96],\n",
              "       [144.25,  85.57,  99.13,  81.7 ],\n",
              "       [180.85,  84.57, 130.21,  81.29],\n",
              "       [146.35,  85.78,  91.86,  73.07],\n",
              "       [148.89,  85.61,  98.85,  82.38],\n",
              "       [204.7 ,  85.47, 138.92,  84.65],\n",
              "       [143.94,  89.84, 131.05,  80.27],\n",
              "       [151.05,  83.58, 121.39,  72.94],\n",
              "       [149.26,  85.85, 111.14,  77.65],\n",
              "       [151.84,  87.38, 121.19,  90.01],\n",
              "       [154.95,  84.89, 107.36,  81.3 ],\n",
              "       [207.32,  88.79, 120.82,  80.69],\n",
              "       [152.22,  88.79, 115.41,  79.2 ]])"
            ]
          },
          "metadata": {
            "tags": []
          },
          "execution_count": 121
        }
      ]
    },
    {
      "cell_type": "code",
      "metadata": {
        "scrolled": true,
        "id": "_qqCYW3hQr_l",
        "colab_type": "code",
        "colab": {},
        "outputId": "c9c40972-dd74-476a-a905-e68986e534fb"
      },
      "source": [
        "model.predict(x_test)[0]"
      ],
      "execution_count": 0,
      "outputs": [
        {
          "output_type": "execute_result",
          "data": {
            "text/plain": [
              "array([[181.51344 , 133.70616 , 154.07916 ,  75.09466 ],\n",
              "       [150.8593  , 111.198105, 128.17331 ,  62.505066],\n",
              "       [144.95456 , 106.849495, 123.179184,  60.08195 ],\n",
              "       [150.01186 , 110.56755 , 127.48436 ,  62.19655 ],\n",
              "       [162.99585 , 120.1133  , 138.46819 ,  67.495804],\n",
              "       [146.31303 , 107.85727 , 124.380905,  60.681778],\n",
              "       [145.65184 , 107.33568 , 123.80563 ,  60.416767],\n",
              "       [145.49397 , 107.19953 , 123.60704 ,  60.27557 ],\n",
              "       [158.82263 , 117.039444, 134.85449 ,  65.75885 ],\n",
              "       [169.01814 , 124.55415 , 143.4685  ,  69.97043 ],\n",
              "       [183.48586 , 135.17897 , 155.73935 ,  75.917076],\n",
              "       [191.79373 , 141.22139 , 162.7302  ,  79.306305],\n",
              "       [155.9152  , 114.89131 , 132.4618  ,  64.57501 ],\n",
              "       [146.8784  , 108.25423 , 124.86929 ,  60.901485],\n",
              "       [144.7396  , 106.68291 , 123.039246,  60.024105],\n",
              "       [151.66129 , 111.805176, 128.9019  ,  62.900105],\n",
              "       [150.12868 , 110.65242 , 127.570984,  62.262745],\n",
              "       [157.40541 , 115.97601 , 133.7744  ,  65.30255 ],\n",
              "       [155.2835  , 114.436745, 131.97052 ,  64.3493  ],\n",
              "       [158.14987 , 116.5663  , 134.40088 ,  65.58563 ],\n",
              "       [161.4164  , 118.92363 , 137.19844 ,  66.9253  ],\n",
              "       [146.34467 , 107.83273 , 124.388664,  60.675125],\n",
              "       [140.57219 , 103.590996, 119.50363 ,  58.28083 ],\n",
              "       [134.59282 ,  99.22273 , 114.426506,  55.871372],\n",
              "       [184.3592  , 135.76663 , 156.59955 ,  76.38939 ],\n",
              "       [163.68971 , 120.5521  , 139.11557 ,  67.806595],\n",
              "       [149.59389 , 110.18834 , 127.23839 ,  62.043224],\n",
              "       [147.90935 , 108.96368 , 125.80914 ,  61.355244]], dtype=float32)"
            ]
          },
          "metadata": {
            "tags": []
          },
          "execution_count": 122
        }
      ]
    },
    {
      "cell_type": "code",
      "metadata": {
        "id": "YFMaENhAQr_z",
        "colab_type": "code",
        "colab": {}
      },
      "source": [
        "submittab=model.predict(xtestdata)"
      ],
      "execution_count": 0,
      "outputs": []
    },
    {
      "cell_type": "code",
      "metadata": {
        "id": "OpcYIubpQsAB",
        "colab_type": "code",
        "colab": {}
      },
      "source": [
        "submittab1=submittab.reshape((28,4))"
      ],
      "execution_count": 0,
      "outputs": []
    },
    {
      "cell_type": "code",
      "metadata": {
        "id": "kaZdsKvxQsAN",
        "colab_type": "code",
        "colab": {}
      },
      "source": [
        "submittab=pd.DataFrame(submittab1,columns=subformat.columns[1:])"
      ],
      "execution_count": 0,
      "outputs": []
    },
    {
      "cell_type": "code",
      "metadata": {
        "id": "vTJkMrBEQsAY",
        "colab_type": "code",
        "colab": {}
      },
      "source": [
        "submittab2=pd.DataFrame(submittab1,index=subformat.index[28:],columns=subformat.columns[1:])"
      ],
      "execution_count": 0,
      "outputs": []
    },
    {
      "cell_type": "code",
      "metadata": {
        "scrolled": true,
        "id": "3jGN3MzQQsAl",
        "colab_type": "code",
        "colab": {},
        "outputId": "c091f912-7db3-4081-d10c-71628a07056d"
      },
      "source": [
        "submittab.tail()"
      ],
      "execution_count": 0,
      "outputs": [
        {
          "output_type": "execute_result",
          "data": {
            "text/html": [
              "<div>\n",
              "<style scoped>\n",
              "    .dataframe tbody tr th:only-of-type {\n",
              "        vertical-align: middle;\n",
              "    }\n",
              "\n",
              "    .dataframe tbody tr th {\n",
              "        vertical-align: top;\n",
              "    }\n",
              "\n",
              "    .dataframe thead th {\n",
              "        text-align: right;\n",
              "    }\n",
              "</style>\n",
              "<table border=\"1\" class=\"dataframe\">\n",
              "  <thead>\n",
              "    <tr style=\"text-align: right;\">\n",
              "      <th></th>\n",
              "      <th>smp_max</th>\n",
              "      <th>smp_min</th>\n",
              "      <th>smp_mean</th>\n",
              "      <th>supply</th>\n",
              "    </tr>\n",
              "  </thead>\n",
              "  <tbody>\n",
              "    <tr>\n",
              "      <th>23</th>\n",
              "      <td>144.255264</td>\n",
              "      <td>106.158852</td>\n",
              "      <td>122.478333</td>\n",
              "      <td>59.778259</td>\n",
              "    </tr>\n",
              "    <tr>\n",
              "      <th>24</th>\n",
              "      <td>136.537872</td>\n",
              "      <td>100.603577</td>\n",
              "      <td>116.070427</td>\n",
              "      <td>56.685261</td>\n",
              "    </tr>\n",
              "    <tr>\n",
              "      <th>25</th>\n",
              "      <td>141.027359</td>\n",
              "      <td>103.893799</td>\n",
              "      <td>119.851440</td>\n",
              "      <td>58.496204</td>\n",
              "    </tr>\n",
              "    <tr>\n",
              "      <th>26</th>\n",
              "      <td>155.446304</td>\n",
              "      <td>114.412895</td>\n",
              "      <td>132.237091</td>\n",
              "      <td>64.461464</td>\n",
              "    </tr>\n",
              "    <tr>\n",
              "      <th>27</th>\n",
              "      <td>149.394424</td>\n",
              "      <td>109.983185</td>\n",
              "      <td>127.135658</td>\n",
              "      <td>61.970028</td>\n",
              "    </tr>\n",
              "  </tbody>\n",
              "</table>\n",
              "</div>"
            ],
            "text/plain": [
              "       smp_max     smp_min    smp_mean     supply\n",
              "23  144.255264  106.158852  122.478333  59.778259\n",
              "24  136.537872  100.603577  116.070427  56.685261\n",
              "25  141.027359  103.893799  119.851440  58.496204\n",
              "26  155.446304  114.412895  132.237091  64.461464\n",
              "27  149.394424  109.983185  127.135658  61.970028"
            ]
          },
          "metadata": {
            "tags": []
          },
          "execution_count": 216
        }
      ]
    },
    {
      "cell_type": "code",
      "metadata": {
        "id": "s4Z0WSDZQsAu",
        "colab_type": "code",
        "colab": {}
      },
      "source": [
        "subm=subformat.copy()"
      ],
      "execution_count": 0,
      "outputs": []
    },
    {
      "cell_type": "code",
      "metadata": {
        "id": "oeDdvNYpQsA7",
        "colab_type": "code",
        "colab": {}
      },
      "source": [
        "subm.iloc[:28,1:]=submittab"
      ],
      "execution_count": 0,
      "outputs": []
    },
    {
      "cell_type": "code",
      "metadata": {
        "id": "8DiMow0uQsBK",
        "colab_type": "code",
        "colab": {}
      },
      "source": [
        "subm.iloc[28:,1:]=submittab2"
      ],
      "execution_count": 0,
      "outputs": []
    },
    {
      "cell_type": "code",
      "metadata": {
        "id": "TYTncPGEQsBT",
        "colab_type": "code",
        "colab": {},
        "outputId": "5fc866b9-df0c-4270-8e2d-51ade4e4dde7"
      },
      "source": [
        "submittab2"
      ],
      "execution_count": 0,
      "outputs": [
        {
          "output_type": "execute_result",
          "data": {
            "text/html": [
              "<div>\n",
              "<style scoped>\n",
              "    .dataframe tbody tr th:only-of-type {\n",
              "        vertical-align: middle;\n",
              "    }\n",
              "\n",
              "    .dataframe tbody tr th {\n",
              "        vertical-align: top;\n",
              "    }\n",
              "\n",
              "    .dataframe thead th {\n",
              "        text-align: right;\n",
              "    }\n",
              "</style>\n",
              "<table border=\"1\" class=\"dataframe\">\n",
              "  <thead>\n",
              "    <tr style=\"text-align: right;\">\n",
              "      <th></th>\n",
              "      <th>smp_max</th>\n",
              "      <th>smp_min</th>\n",
              "      <th>smp_mean</th>\n",
              "      <th>supply</th>\n",
              "    </tr>\n",
              "  </thead>\n",
              "  <tbody>\n",
              "    <tr>\n",
              "      <th>28</th>\n",
              "      <td>124.817787</td>\n",
              "      <td>92.001732</td>\n",
              "      <td>106.070442</td>\n",
              "      <td>51.771683</td>\n",
              "    </tr>\n",
              "    <tr>\n",
              "      <th>29</th>\n",
              "      <td>135.404251</td>\n",
              "      <td>99.728447</td>\n",
              "      <td>115.222923</td>\n",
              "      <td>56.196987</td>\n",
              "    </tr>\n",
              "    <tr>\n",
              "      <th>30</th>\n",
              "      <td>139.593307</td>\n",
              "      <td>102.882233</td>\n",
              "      <td>118.552757</td>\n",
              "      <td>57.861610</td>\n",
              "    </tr>\n",
              "    <tr>\n",
              "      <th>31</th>\n",
              "      <td>135.542252</td>\n",
              "      <td>99.901169</td>\n",
              "      <td>114.815804</td>\n",
              "      <td>56.079132</td>\n",
              "    </tr>\n",
              "    <tr>\n",
              "      <th>32</th>\n",
              "      <td>130.404007</td>\n",
              "      <td>96.106873</td>\n",
              "      <td>110.538620</td>\n",
              "      <td>53.951557</td>\n",
              "    </tr>\n",
              "    <tr>\n",
              "      <th>33</th>\n",
              "      <td>137.285660</td>\n",
              "      <td>101.141830</td>\n",
              "      <td>116.662132</td>\n",
              "      <td>56.909351</td>\n",
              "    </tr>\n",
              "    <tr>\n",
              "      <th>34</th>\n",
              "      <td>141.364609</td>\n",
              "      <td>104.097015</td>\n",
              "      <td>120.316452</td>\n",
              "      <td>58.675636</td>\n",
              "    </tr>\n",
              "    <tr>\n",
              "      <th>35</th>\n",
              "      <td>128.251511</td>\n",
              "      <td>94.524734</td>\n",
              "      <td>109.007645</td>\n",
              "      <td>53.222294</td>\n",
              "    </tr>\n",
              "    <tr>\n",
              "      <th>36</th>\n",
              "      <td>125.681595</td>\n",
              "      <td>92.618797</td>\n",
              "      <td>106.720871</td>\n",
              "      <td>52.094898</td>\n",
              "    </tr>\n",
              "    <tr>\n",
              "      <th>37</th>\n",
              "      <td>153.861832</td>\n",
              "      <td>113.290306</td>\n",
              "      <td>130.918213</td>\n",
              "      <td>63.806438</td>\n",
              "    </tr>\n",
              "    <tr>\n",
              "      <th>38</th>\n",
              "      <td>141.281570</td>\n",
              "      <td>104.061348</td>\n",
              "      <td>120.155090</td>\n",
              "      <td>58.637577</td>\n",
              "    </tr>\n",
              "    <tr>\n",
              "      <th>39</th>\n",
              "      <td>151.181107</td>\n",
              "      <td>111.291527</td>\n",
              "      <td>128.690918</td>\n",
              "      <td>62.731354</td>\n",
              "    </tr>\n",
              "    <tr>\n",
              "      <th>40</th>\n",
              "      <td>148.725601</td>\n",
              "      <td>109.498672</td>\n",
              "      <td>126.622612</td>\n",
              "      <td>61.715694</td>\n",
              "    </tr>\n",
              "    <tr>\n",
              "      <th>41</th>\n",
              "      <td>133.245590</td>\n",
              "      <td>98.160667</td>\n",
              "      <td>113.254974</td>\n",
              "      <td>55.223545</td>\n",
              "    </tr>\n",
              "    <tr>\n",
              "      <th>42</th>\n",
              "      <td>133.822586</td>\n",
              "      <td>98.586212</td>\n",
              "      <td>113.716087</td>\n",
              "      <td>55.465370</td>\n",
              "    </tr>\n",
              "    <tr>\n",
              "      <th>43</th>\n",
              "      <td>132.153366</td>\n",
              "      <td>97.372528</td>\n",
              "      <td>112.325699</td>\n",
              "      <td>54.819126</td>\n",
              "    </tr>\n",
              "    <tr>\n",
              "      <th>44</th>\n",
              "      <td>136.901718</td>\n",
              "      <td>100.860748</td>\n",
              "      <td>116.330467</td>\n",
              "      <td>56.721851</td>\n",
              "    </tr>\n",
              "    <tr>\n",
              "      <th>45</th>\n",
              "      <td>146.267441</td>\n",
              "      <td>107.699219</td>\n",
              "      <td>124.498161</td>\n",
              "      <td>60.677921</td>\n",
              "    </tr>\n",
              "    <tr>\n",
              "      <th>46</th>\n",
              "      <td>163.873917</td>\n",
              "      <td>120.622864</td>\n",
              "      <td>139.433548</td>\n",
              "      <td>68.004204</td>\n",
              "    </tr>\n",
              "    <tr>\n",
              "      <th>47</th>\n",
              "      <td>141.349487</td>\n",
              "      <td>104.174057</td>\n",
              "      <td>120.121834</td>\n",
              "      <td>58.675938</td>\n",
              "    </tr>\n",
              "    <tr>\n",
              "      <th>48</th>\n",
              "      <td>116.220428</td>\n",
              "      <td>85.686401</td>\n",
              "      <td>98.770264</td>\n",
              "      <td>48.266972</td>\n",
              "    </tr>\n",
              "    <tr>\n",
              "      <th>49</th>\n",
              "      <td>129.427994</td>\n",
              "      <td>95.382538</td>\n",
              "      <td>109.950996</td>\n",
              "      <td>53.712852</td>\n",
              "    </tr>\n",
              "    <tr>\n",
              "      <th>50</th>\n",
              "      <td>108.496338</td>\n",
              "      <td>80.051880</td>\n",
              "      <td>91.970596</td>\n",
              "      <td>44.991123</td>\n",
              "    </tr>\n",
              "    <tr>\n",
              "      <th>51</th>\n",
              "      <td>144.255264</td>\n",
              "      <td>106.158852</td>\n",
              "      <td>122.478333</td>\n",
              "      <td>59.778259</td>\n",
              "    </tr>\n",
              "    <tr>\n",
              "      <th>52</th>\n",
              "      <td>136.537872</td>\n",
              "      <td>100.603577</td>\n",
              "      <td>116.070427</td>\n",
              "      <td>56.685261</td>\n",
              "    </tr>\n",
              "    <tr>\n",
              "      <th>53</th>\n",
              "      <td>141.027359</td>\n",
              "      <td>103.893799</td>\n",
              "      <td>119.851440</td>\n",
              "      <td>58.496204</td>\n",
              "    </tr>\n",
              "    <tr>\n",
              "      <th>54</th>\n",
              "      <td>155.446304</td>\n",
              "      <td>114.412895</td>\n",
              "      <td>132.237091</td>\n",
              "      <td>64.461464</td>\n",
              "    </tr>\n",
              "    <tr>\n",
              "      <th>55</th>\n",
              "      <td>149.394424</td>\n",
              "      <td>109.983185</td>\n",
              "      <td>127.135658</td>\n",
              "      <td>61.970028</td>\n",
              "    </tr>\n",
              "  </tbody>\n",
              "</table>\n",
              "</div>"
            ],
            "text/plain": [
              "       smp_max     smp_min    smp_mean     supply\n",
              "28  124.817787   92.001732  106.070442  51.771683\n",
              "29  135.404251   99.728447  115.222923  56.196987\n",
              "30  139.593307  102.882233  118.552757  57.861610\n",
              "31  135.542252   99.901169  114.815804  56.079132\n",
              "32  130.404007   96.106873  110.538620  53.951557\n",
              "33  137.285660  101.141830  116.662132  56.909351\n",
              "34  141.364609  104.097015  120.316452  58.675636\n",
              "35  128.251511   94.524734  109.007645  53.222294\n",
              "36  125.681595   92.618797  106.720871  52.094898\n",
              "37  153.861832  113.290306  130.918213  63.806438\n",
              "38  141.281570  104.061348  120.155090  58.637577\n",
              "39  151.181107  111.291527  128.690918  62.731354\n",
              "40  148.725601  109.498672  126.622612  61.715694\n",
              "41  133.245590   98.160667  113.254974  55.223545\n",
              "42  133.822586   98.586212  113.716087  55.465370\n",
              "43  132.153366   97.372528  112.325699  54.819126\n",
              "44  136.901718  100.860748  116.330467  56.721851\n",
              "45  146.267441  107.699219  124.498161  60.677921\n",
              "46  163.873917  120.622864  139.433548  68.004204\n",
              "47  141.349487  104.174057  120.121834  58.675938\n",
              "48  116.220428   85.686401   98.770264  48.266972\n",
              "49  129.427994   95.382538  109.950996  53.712852\n",
              "50  108.496338   80.051880   91.970596  44.991123\n",
              "51  144.255264  106.158852  122.478333  59.778259\n",
              "52  136.537872  100.603577  116.070427  56.685261\n",
              "53  141.027359  103.893799  119.851440  58.496204\n",
              "54  155.446304  114.412895  132.237091  64.461464\n",
              "55  149.394424  109.983185  127.135658  61.970028"
            ]
          },
          "metadata": {
            "tags": []
          },
          "execution_count": 220
        }
      ]
    },
    {
      "cell_type": "code",
      "metadata": {
        "scrolled": true,
        "id": "_Vt4AU15QsBd",
        "colab_type": "code",
        "colab": {},
        "outputId": "d7c0fa0b-8c82-4589-cc0b-dc34d39fcdbe"
      },
      "source": [
        "subm"
      ],
      "execution_count": 0,
      "outputs": [
        {
          "output_type": "execute_result",
          "data": {
            "text/html": [
              "<div>\n",
              "<style scoped>\n",
              "    .dataframe tbody tr th:only-of-type {\n",
              "        vertical-align: middle;\n",
              "    }\n",
              "\n",
              "    .dataframe tbody tr th {\n",
              "        vertical-align: top;\n",
              "    }\n",
              "\n",
              "    .dataframe thead th {\n",
              "        text-align: right;\n",
              "    }\n",
              "</style>\n",
              "<table border=\"1\" class=\"dataframe\">\n",
              "  <thead>\n",
              "    <tr style=\"text-align: right;\">\n",
              "      <th></th>\n",
              "      <th>date</th>\n",
              "      <th>smp_max</th>\n",
              "      <th>smp_min</th>\n",
              "      <th>smp_mean</th>\n",
              "      <th>supply</th>\n",
              "    </tr>\n",
              "  </thead>\n",
              "  <tbody>\n",
              "    <tr>\n",
              "      <th>0</th>\n",
              "      <td>2020-02-07</td>\n",
              "      <td>124.817787</td>\n",
              "      <td>92.001732</td>\n",
              "      <td>106.070442</td>\n",
              "      <td>51.771683</td>\n",
              "    </tr>\n",
              "    <tr>\n",
              "      <th>1</th>\n",
              "      <td>2020-02-08</td>\n",
              "      <td>135.404251</td>\n",
              "      <td>99.728447</td>\n",
              "      <td>115.222923</td>\n",
              "      <td>56.196987</td>\n",
              "    </tr>\n",
              "    <tr>\n",
              "      <th>2</th>\n",
              "      <td>2020-02-09</td>\n",
              "      <td>139.593307</td>\n",
              "      <td>102.882233</td>\n",
              "      <td>118.552757</td>\n",
              "      <td>57.861610</td>\n",
              "    </tr>\n",
              "    <tr>\n",
              "      <th>3</th>\n",
              "      <td>2020-02-10</td>\n",
              "      <td>135.542252</td>\n",
              "      <td>99.901169</td>\n",
              "      <td>114.815804</td>\n",
              "      <td>56.079132</td>\n",
              "    </tr>\n",
              "    <tr>\n",
              "      <th>4</th>\n",
              "      <td>2020-02-11</td>\n",
              "      <td>130.404007</td>\n",
              "      <td>96.106873</td>\n",
              "      <td>110.538620</td>\n",
              "      <td>53.951557</td>\n",
              "    </tr>\n",
              "    <tr>\n",
              "      <th>5</th>\n",
              "      <td>2020-02-12</td>\n",
              "      <td>137.285660</td>\n",
              "      <td>101.141830</td>\n",
              "      <td>116.662132</td>\n",
              "      <td>56.909351</td>\n",
              "    </tr>\n",
              "    <tr>\n",
              "      <th>6</th>\n",
              "      <td>2020-02-13</td>\n",
              "      <td>141.364609</td>\n",
              "      <td>104.097015</td>\n",
              "      <td>120.316452</td>\n",
              "      <td>58.675636</td>\n",
              "    </tr>\n",
              "    <tr>\n",
              "      <th>7</th>\n",
              "      <td>2020-02-14</td>\n",
              "      <td>128.251511</td>\n",
              "      <td>94.524734</td>\n",
              "      <td>109.007645</td>\n",
              "      <td>53.222294</td>\n",
              "    </tr>\n",
              "    <tr>\n",
              "      <th>8</th>\n",
              "      <td>2020-02-15</td>\n",
              "      <td>125.681595</td>\n",
              "      <td>92.618797</td>\n",
              "      <td>106.720871</td>\n",
              "      <td>52.094898</td>\n",
              "    </tr>\n",
              "    <tr>\n",
              "      <th>9</th>\n",
              "      <td>2020-02-16</td>\n",
              "      <td>153.861832</td>\n",
              "      <td>113.290306</td>\n",
              "      <td>130.918213</td>\n",
              "      <td>63.806438</td>\n",
              "    </tr>\n",
              "    <tr>\n",
              "      <th>10</th>\n",
              "      <td>2020-02-17</td>\n",
              "      <td>141.281570</td>\n",
              "      <td>104.061348</td>\n",
              "      <td>120.155090</td>\n",
              "      <td>58.637577</td>\n",
              "    </tr>\n",
              "    <tr>\n",
              "      <th>11</th>\n",
              "      <td>2020-02-18</td>\n",
              "      <td>151.181107</td>\n",
              "      <td>111.291527</td>\n",
              "      <td>128.690918</td>\n",
              "      <td>62.731354</td>\n",
              "    </tr>\n",
              "    <tr>\n",
              "      <th>12</th>\n",
              "      <td>2020-02-19</td>\n",
              "      <td>148.725601</td>\n",
              "      <td>109.498672</td>\n",
              "      <td>126.622612</td>\n",
              "      <td>61.715694</td>\n",
              "    </tr>\n",
              "    <tr>\n",
              "      <th>13</th>\n",
              "      <td>2020-02-20</td>\n",
              "      <td>133.245590</td>\n",
              "      <td>98.160667</td>\n",
              "      <td>113.254974</td>\n",
              "      <td>55.223545</td>\n",
              "    </tr>\n",
              "    <tr>\n",
              "      <th>14</th>\n",
              "      <td>2020-02-21</td>\n",
              "      <td>133.822586</td>\n",
              "      <td>98.586212</td>\n",
              "      <td>113.716087</td>\n",
              "      <td>55.465370</td>\n",
              "    </tr>\n",
              "    <tr>\n",
              "      <th>15</th>\n",
              "      <td>2020-02-22</td>\n",
              "      <td>132.153366</td>\n",
              "      <td>97.372528</td>\n",
              "      <td>112.325699</td>\n",
              "      <td>54.819126</td>\n",
              "    </tr>\n",
              "    <tr>\n",
              "      <th>16</th>\n",
              "      <td>2020-02-23</td>\n",
              "      <td>136.901718</td>\n",
              "      <td>100.860748</td>\n",
              "      <td>116.330467</td>\n",
              "      <td>56.721851</td>\n",
              "    </tr>\n",
              "    <tr>\n",
              "      <th>17</th>\n",
              "      <td>2020-02-24</td>\n",
              "      <td>146.267441</td>\n",
              "      <td>107.699219</td>\n",
              "      <td>124.498161</td>\n",
              "      <td>60.677921</td>\n",
              "    </tr>\n",
              "    <tr>\n",
              "      <th>18</th>\n",
              "      <td>2020-02-25</td>\n",
              "      <td>163.873917</td>\n",
              "      <td>120.622864</td>\n",
              "      <td>139.433548</td>\n",
              "      <td>68.004204</td>\n",
              "    </tr>\n",
              "    <tr>\n",
              "      <th>19</th>\n",
              "      <td>2020-02-26</td>\n",
              "      <td>141.349487</td>\n",
              "      <td>104.174057</td>\n",
              "      <td>120.121834</td>\n",
              "      <td>58.675938</td>\n",
              "    </tr>\n",
              "    <tr>\n",
              "      <th>20</th>\n",
              "      <td>2020-02-27</td>\n",
              "      <td>116.220428</td>\n",
              "      <td>85.686401</td>\n",
              "      <td>98.770264</td>\n",
              "      <td>48.266972</td>\n",
              "    </tr>\n",
              "    <tr>\n",
              "      <th>21</th>\n",
              "      <td>2020-02-28</td>\n",
              "      <td>129.427994</td>\n",
              "      <td>95.382538</td>\n",
              "      <td>109.950996</td>\n",
              "      <td>53.712852</td>\n",
              "    </tr>\n",
              "    <tr>\n",
              "      <th>22</th>\n",
              "      <td>2020-02-29</td>\n",
              "      <td>108.496338</td>\n",
              "      <td>80.051880</td>\n",
              "      <td>91.970596</td>\n",
              "      <td>44.991123</td>\n",
              "    </tr>\n",
              "    <tr>\n",
              "      <th>23</th>\n",
              "      <td>2020-03-01</td>\n",
              "      <td>144.255264</td>\n",
              "      <td>106.158852</td>\n",
              "      <td>122.478333</td>\n",
              "      <td>59.778259</td>\n",
              "    </tr>\n",
              "    <tr>\n",
              "      <th>24</th>\n",
              "      <td>2020-03-02</td>\n",
              "      <td>136.537872</td>\n",
              "      <td>100.603577</td>\n",
              "      <td>116.070427</td>\n",
              "      <td>56.685261</td>\n",
              "    </tr>\n",
              "    <tr>\n",
              "      <th>25</th>\n",
              "      <td>2020-03-03</td>\n",
              "      <td>141.027359</td>\n",
              "      <td>103.893799</td>\n",
              "      <td>119.851440</td>\n",
              "      <td>58.496204</td>\n",
              "    </tr>\n",
              "    <tr>\n",
              "      <th>26</th>\n",
              "      <td>2020-03-04</td>\n",
              "      <td>155.446304</td>\n",
              "      <td>114.412895</td>\n",
              "      <td>132.237091</td>\n",
              "      <td>64.461464</td>\n",
              "    </tr>\n",
              "    <tr>\n",
              "      <th>27</th>\n",
              "      <td>2020-03-05</td>\n",
              "      <td>149.394424</td>\n",
              "      <td>109.983185</td>\n",
              "      <td>127.135658</td>\n",
              "      <td>61.970028</td>\n",
              "    </tr>\n",
              "    <tr>\n",
              "      <th>28</th>\n",
              "      <td>2020-05-25</td>\n",
              "      <td>124.817787</td>\n",
              "      <td>92.001732</td>\n",
              "      <td>106.070442</td>\n",
              "      <td>51.771683</td>\n",
              "    </tr>\n",
              "    <tr>\n",
              "      <th>29</th>\n",
              "      <td>2020-05-26</td>\n",
              "      <td>135.404251</td>\n",
              "      <td>99.728447</td>\n",
              "      <td>115.222923</td>\n",
              "      <td>56.196987</td>\n",
              "    </tr>\n",
              "    <tr>\n",
              "      <th>30</th>\n",
              "      <td>2020-05-27</td>\n",
              "      <td>139.593307</td>\n",
              "      <td>102.882233</td>\n",
              "      <td>118.552757</td>\n",
              "      <td>57.861610</td>\n",
              "    </tr>\n",
              "    <tr>\n",
              "      <th>31</th>\n",
              "      <td>2020-05-28</td>\n",
              "      <td>135.542252</td>\n",
              "      <td>99.901169</td>\n",
              "      <td>114.815804</td>\n",
              "      <td>56.079132</td>\n",
              "    </tr>\n",
              "    <tr>\n",
              "      <th>32</th>\n",
              "      <td>2020-05-29</td>\n",
              "      <td>130.404007</td>\n",
              "      <td>96.106873</td>\n",
              "      <td>110.538620</td>\n",
              "      <td>53.951557</td>\n",
              "    </tr>\n",
              "    <tr>\n",
              "      <th>33</th>\n",
              "      <td>2020-05-30</td>\n",
              "      <td>137.285660</td>\n",
              "      <td>101.141830</td>\n",
              "      <td>116.662132</td>\n",
              "      <td>56.909351</td>\n",
              "    </tr>\n",
              "    <tr>\n",
              "      <th>34</th>\n",
              "      <td>2020-05-31</td>\n",
              "      <td>141.364609</td>\n",
              "      <td>104.097015</td>\n",
              "      <td>120.316452</td>\n",
              "      <td>58.675636</td>\n",
              "    </tr>\n",
              "    <tr>\n",
              "      <th>35</th>\n",
              "      <td>2020-06-01</td>\n",
              "      <td>128.251511</td>\n",
              "      <td>94.524734</td>\n",
              "      <td>109.007645</td>\n",
              "      <td>53.222294</td>\n",
              "    </tr>\n",
              "    <tr>\n",
              "      <th>36</th>\n",
              "      <td>2020-06-02</td>\n",
              "      <td>125.681595</td>\n",
              "      <td>92.618797</td>\n",
              "      <td>106.720871</td>\n",
              "      <td>52.094898</td>\n",
              "    </tr>\n",
              "    <tr>\n",
              "      <th>37</th>\n",
              "      <td>2020-06-03</td>\n",
              "      <td>153.861832</td>\n",
              "      <td>113.290306</td>\n",
              "      <td>130.918213</td>\n",
              "      <td>63.806438</td>\n",
              "    </tr>\n",
              "    <tr>\n",
              "      <th>38</th>\n",
              "      <td>2020-06-04</td>\n",
              "      <td>141.281570</td>\n",
              "      <td>104.061348</td>\n",
              "      <td>120.155090</td>\n",
              "      <td>58.637577</td>\n",
              "    </tr>\n",
              "    <tr>\n",
              "      <th>39</th>\n",
              "      <td>2020-06-05</td>\n",
              "      <td>151.181107</td>\n",
              "      <td>111.291527</td>\n",
              "      <td>128.690918</td>\n",
              "      <td>62.731354</td>\n",
              "    </tr>\n",
              "    <tr>\n",
              "      <th>40</th>\n",
              "      <td>2020-06-06</td>\n",
              "      <td>148.725601</td>\n",
              "      <td>109.498672</td>\n",
              "      <td>126.622612</td>\n",
              "      <td>61.715694</td>\n",
              "    </tr>\n",
              "    <tr>\n",
              "      <th>41</th>\n",
              "      <td>2020-06-07</td>\n",
              "      <td>133.245590</td>\n",
              "      <td>98.160667</td>\n",
              "      <td>113.254974</td>\n",
              "      <td>55.223545</td>\n",
              "    </tr>\n",
              "    <tr>\n",
              "      <th>42</th>\n",
              "      <td>2020-06-08</td>\n",
              "      <td>133.822586</td>\n",
              "      <td>98.586212</td>\n",
              "      <td>113.716087</td>\n",
              "      <td>55.465370</td>\n",
              "    </tr>\n",
              "    <tr>\n",
              "      <th>43</th>\n",
              "      <td>2020-06-09</td>\n",
              "      <td>132.153366</td>\n",
              "      <td>97.372528</td>\n",
              "      <td>112.325699</td>\n",
              "      <td>54.819126</td>\n",
              "    </tr>\n",
              "    <tr>\n",
              "      <th>44</th>\n",
              "      <td>2020-06-10</td>\n",
              "      <td>136.901718</td>\n",
              "      <td>100.860748</td>\n",
              "      <td>116.330467</td>\n",
              "      <td>56.721851</td>\n",
              "    </tr>\n",
              "    <tr>\n",
              "      <th>45</th>\n",
              "      <td>2020-06-11</td>\n",
              "      <td>146.267441</td>\n",
              "      <td>107.699219</td>\n",
              "      <td>124.498161</td>\n",
              "      <td>60.677921</td>\n",
              "    </tr>\n",
              "    <tr>\n",
              "      <th>46</th>\n",
              "      <td>2020-06-12</td>\n",
              "      <td>163.873917</td>\n",
              "      <td>120.622864</td>\n",
              "      <td>139.433548</td>\n",
              "      <td>68.004204</td>\n",
              "    </tr>\n",
              "    <tr>\n",
              "      <th>47</th>\n",
              "      <td>2020-06-13</td>\n",
              "      <td>141.349487</td>\n",
              "      <td>104.174057</td>\n",
              "      <td>120.121834</td>\n",
              "      <td>58.675938</td>\n",
              "    </tr>\n",
              "    <tr>\n",
              "      <th>48</th>\n",
              "      <td>2020-06-14</td>\n",
              "      <td>116.220428</td>\n",
              "      <td>85.686401</td>\n",
              "      <td>98.770264</td>\n",
              "      <td>48.266972</td>\n",
              "    </tr>\n",
              "    <tr>\n",
              "      <th>49</th>\n",
              "      <td>2020-06-15</td>\n",
              "      <td>129.427994</td>\n",
              "      <td>95.382538</td>\n",
              "      <td>109.950996</td>\n",
              "      <td>53.712852</td>\n",
              "    </tr>\n",
              "    <tr>\n",
              "      <th>50</th>\n",
              "      <td>2020-06-16</td>\n",
              "      <td>108.496338</td>\n",
              "      <td>80.051880</td>\n",
              "      <td>91.970596</td>\n",
              "      <td>44.991123</td>\n",
              "    </tr>\n",
              "    <tr>\n",
              "      <th>51</th>\n",
              "      <td>2020-06-17</td>\n",
              "      <td>144.255264</td>\n",
              "      <td>106.158852</td>\n",
              "      <td>122.478333</td>\n",
              "      <td>59.778259</td>\n",
              "    </tr>\n",
              "    <tr>\n",
              "      <th>52</th>\n",
              "      <td>2020-06-18</td>\n",
              "      <td>136.537872</td>\n",
              "      <td>100.603577</td>\n",
              "      <td>116.070427</td>\n",
              "      <td>56.685261</td>\n",
              "    </tr>\n",
              "    <tr>\n",
              "      <th>53</th>\n",
              "      <td>2020-06-19</td>\n",
              "      <td>141.027359</td>\n",
              "      <td>103.893799</td>\n",
              "      <td>119.851440</td>\n",
              "      <td>58.496204</td>\n",
              "    </tr>\n",
              "    <tr>\n",
              "      <th>54</th>\n",
              "      <td>2020-06-20</td>\n",
              "      <td>155.446304</td>\n",
              "      <td>114.412895</td>\n",
              "      <td>132.237091</td>\n",
              "      <td>64.461464</td>\n",
              "    </tr>\n",
              "    <tr>\n",
              "      <th>55</th>\n",
              "      <td>2020-06-21</td>\n",
              "      <td>149.394424</td>\n",
              "      <td>109.983185</td>\n",
              "      <td>127.135658</td>\n",
              "      <td>61.970028</td>\n",
              "    </tr>\n",
              "  </tbody>\n",
              "</table>\n",
              "</div>"
            ],
            "text/plain": [
              "          date     smp_max     smp_min    smp_mean     supply\n",
              "0   2020-02-07  124.817787   92.001732  106.070442  51.771683\n",
              "1   2020-02-08  135.404251   99.728447  115.222923  56.196987\n",
              "2   2020-02-09  139.593307  102.882233  118.552757  57.861610\n",
              "3   2020-02-10  135.542252   99.901169  114.815804  56.079132\n",
              "4   2020-02-11  130.404007   96.106873  110.538620  53.951557\n",
              "5   2020-02-12  137.285660  101.141830  116.662132  56.909351\n",
              "6   2020-02-13  141.364609  104.097015  120.316452  58.675636\n",
              "7   2020-02-14  128.251511   94.524734  109.007645  53.222294\n",
              "8   2020-02-15  125.681595   92.618797  106.720871  52.094898\n",
              "9   2020-02-16  153.861832  113.290306  130.918213  63.806438\n",
              "10  2020-02-17  141.281570  104.061348  120.155090  58.637577\n",
              "11  2020-02-18  151.181107  111.291527  128.690918  62.731354\n",
              "12  2020-02-19  148.725601  109.498672  126.622612  61.715694\n",
              "13  2020-02-20  133.245590   98.160667  113.254974  55.223545\n",
              "14  2020-02-21  133.822586   98.586212  113.716087  55.465370\n",
              "15  2020-02-22  132.153366   97.372528  112.325699  54.819126\n",
              "16  2020-02-23  136.901718  100.860748  116.330467  56.721851\n",
              "17  2020-02-24  146.267441  107.699219  124.498161  60.677921\n",
              "18  2020-02-25  163.873917  120.622864  139.433548  68.004204\n",
              "19  2020-02-26  141.349487  104.174057  120.121834  58.675938\n",
              "20  2020-02-27  116.220428   85.686401   98.770264  48.266972\n",
              "21  2020-02-28  129.427994   95.382538  109.950996  53.712852\n",
              "22  2020-02-29  108.496338   80.051880   91.970596  44.991123\n",
              "23  2020-03-01  144.255264  106.158852  122.478333  59.778259\n",
              "24  2020-03-02  136.537872  100.603577  116.070427  56.685261\n",
              "25  2020-03-03  141.027359  103.893799  119.851440  58.496204\n",
              "26  2020-03-04  155.446304  114.412895  132.237091  64.461464\n",
              "27  2020-03-05  149.394424  109.983185  127.135658  61.970028\n",
              "28  2020-05-25  124.817787   92.001732  106.070442  51.771683\n",
              "29  2020-05-26  135.404251   99.728447  115.222923  56.196987\n",
              "30  2020-05-27  139.593307  102.882233  118.552757  57.861610\n",
              "31  2020-05-28  135.542252   99.901169  114.815804  56.079132\n",
              "32  2020-05-29  130.404007   96.106873  110.538620  53.951557\n",
              "33  2020-05-30  137.285660  101.141830  116.662132  56.909351\n",
              "34  2020-05-31  141.364609  104.097015  120.316452  58.675636\n",
              "35  2020-06-01  128.251511   94.524734  109.007645  53.222294\n",
              "36  2020-06-02  125.681595   92.618797  106.720871  52.094898\n",
              "37  2020-06-03  153.861832  113.290306  130.918213  63.806438\n",
              "38  2020-06-04  141.281570  104.061348  120.155090  58.637577\n",
              "39  2020-06-05  151.181107  111.291527  128.690918  62.731354\n",
              "40  2020-06-06  148.725601  109.498672  126.622612  61.715694\n",
              "41  2020-06-07  133.245590   98.160667  113.254974  55.223545\n",
              "42  2020-06-08  133.822586   98.586212  113.716087  55.465370\n",
              "43  2020-06-09  132.153366   97.372528  112.325699  54.819126\n",
              "44  2020-06-10  136.901718  100.860748  116.330467  56.721851\n",
              "45  2020-06-11  146.267441  107.699219  124.498161  60.677921\n",
              "46  2020-06-12  163.873917  120.622864  139.433548  68.004204\n",
              "47  2020-06-13  141.349487  104.174057  120.121834  58.675938\n",
              "48  2020-06-14  116.220428   85.686401   98.770264  48.266972\n",
              "49  2020-06-15  129.427994   95.382538  109.950996  53.712852\n",
              "50  2020-06-16  108.496338   80.051880   91.970596  44.991123\n",
              "51  2020-06-17  144.255264  106.158852  122.478333  59.778259\n",
              "52  2020-06-18  136.537872  100.603577  116.070427  56.685261\n",
              "53  2020-06-19  141.027359  103.893799  119.851440  58.496204\n",
              "54  2020-06-20  155.446304  114.412895  132.237091  64.461464\n",
              "55  2020-06-21  149.394424  109.983185  127.135658  61.970028"
            ]
          },
          "metadata": {
            "tags": []
          },
          "execution_count": 221
        }
      ]
    },
    {
      "cell_type": "code",
      "metadata": {
        "id": "Lr_LB7iOQsB5",
        "colab_type": "code",
        "colab": {}
      },
      "source": [
        "subm.to_csv('submit_200501.csv',index=False)"
      ],
      "execution_count": 0,
      "outputs": []
    }
  ]
}